{
 "cells": [
  {
   "cell_type": "markdown",
   "id": "4f61304f-f85a-4dba-a533-4fe5df2a87d2",
   "metadata": {},
   "source": [
    "## Saylani Mass IT \n",
    "### Name   : Muhammad Sarwar\n",
    "### Course : AI and DS\n",
    "### Days   : Tuesday and Thursday\n",
    "### ID     : AI - 333166\n",
    "             "
   ]
  },
  {
   "cell_type": "markdown",
   "id": "482f5c8c-2776-4094-8efa-5b28a344ba86",
   "metadata": {},
   "source": [
    "1. Write a program that accepts a string from user. Your program should count and display number of\n",
    "vowels in that string."
   ]
  },
  {
   "cell_type": "code",
   "execution_count": 10,
   "id": "a453a61a-875a-4ead-a9fb-42d6573fe55f",
   "metadata": {},
   "outputs": [
    {
     "name": "stdin",
     "output_type": "stream",
     "text": [
      "Enter a String sarwar\n"
     ]
    },
    {
     "name": "stdout",
     "output_type": "stream",
     "text": [
      "The number of vowels in the string is: 2\n"
     ]
    }
   ],
   "source": [
    "user_input=input(\"Enter a String\")\n",
    "count_vowel=0\n",
    "vowels=\"aeiouAEIOU\"\n",
    "\n",
    "for a in user_input:\n",
    "    if a in vowels:\n",
    "        count_vowel+=1\n",
    "print(f\"The number of vowels in the string is: {count_vowel}\")"
   ]
  },
  {
   "cell_type": "markdown",
   "id": "2d0a04d0-d449-4b03-9816-3c5aad5785a8",
   "metadata": {},
   "source": [
    "2. Write a program that reads a string from keyboard and display:\n",
    "* The number of uppercase letters in the string\n",
    "* The number of lowercase letters in the string\n",
    "* The number of digits in the string\n",
    "* The number of whitespace characters in the string"
   ]
  },
  {
   "cell_type": "code",
   "execution_count": 14,
   "id": "c40831a4-4d11-48ff-b78f-286ba46e6f03",
   "metadata": {},
   "outputs": [
    {
     "name": "stdin",
     "output_type": "stream",
     "text": [
      "Enter a string My Name is Muhammad Sarwar 110\n"
     ]
    },
    {
     "name": "stdout",
     "output_type": "stream",
     "text": [
      "The number of uppercase letters: 4\n",
      "The number of lowercase letters: 18\n",
      "The number of digits: 3\n",
      "The number of whitespace characters: 5\n"
     ]
    }
   ],
   "source": [
    "user_input=input(\"Enter a string\")\n",
    "uppercase_letters=0\n",
    "lowercase_letters=0\n",
    "digit_count=0\n",
    "whitespace=0\n",
    "for a in user_input:\n",
    "    if a.isupper():\n",
    "       uppercase_letters+=1\n",
    "    elif a.islower():\n",
    "        lowercase_letters+=1\n",
    "    elif a.isdigit():\n",
    "        digit_count+=1\n",
    "    elif a.isspace():\n",
    "        whitespace+=1\n",
    "print(f\"The number of uppercase letters: {uppercase_letters}\")\n",
    "print(f\"The number of lowercase letters: {lowercase_letters}\") \n",
    "print(f\"The number of digits: {digit_count}\")\n",
    "print(f\"The number of whitespace characters: {whitespace}\")"
   ]
  },
  {
   "cell_type": "markdown",
   "id": "c5c770dc-f8b1-4097-9f22-1877efaf2cd6",
   "metadata": {},
   "source": [
    "3. Write a Python program that accepts a string from user. Your program should create and display a\n",
    "new string where the first and last characters have been exchanged.\n",
    "For example if the user enters the string 'HELLO' then new string would be 'OELLH'"
   ]
  },
  {
   "cell_type": "code",
   "execution_count": 22,
   "id": "7c18158c-c18d-4786-b4c6-2a5a45fb0419",
   "metadata": {},
   "outputs": [
    {
     "name": "stdin",
     "output_type": "stream",
     "text": [
      "Enter a string sarwar\n"
     ]
    },
    {
     "name": "stdout",
     "output_type": "stream",
     "text": [
      "The new string is: rarwa\n"
     ]
    }
   ],
   "source": [
    "user_input=input(\"Enter a string\")\n",
    "if len(user_input)<2:\n",
    "    new_string=user_input\n",
    "else:\n",
    "    new_string=user_input[-1] + user_input[1:-1] + user_input[0]\n",
    "    \n",
    "print(f\"The new string is: {new_string}\")"
   ]
  },
  {
   "cell_type": "markdown",
   "id": "a58663fd-6106-4fad-a9b1-97364b631e03",
   "metadata": {},
   "source": [
    "4. Write a Python program that accepts a string from user. Your program should create a new string in\n",
    "reverse of first string and display it."
   ]
  },
  {
   "cell_type": "code",
   "execution_count": 23,
   "id": "a273f7a8-a64e-42c0-8b94-4f3bcc97cbb0",
   "metadata": {},
   "outputs": [
    {
     "name": "stdin",
     "output_type": "stream",
     "text": [
      "Enter a string sarwar\n"
     ]
    },
    {
     "name": "stdout",
     "output_type": "stream",
     "text": [
      "The reversed string:rawras\n"
     ]
    }
   ],
   "source": [
    "user_input=input(\"Enter a string\")\n",
    "reversed_string=user_input[::-1]\n",
    "print(f\"The reversed string:{reversed_string}\")"
   ]
  },
  {
   "cell_type": "markdown",
   "id": "24e3c4c6-8ef0-43ea-8fae-7c55540d49e4",
   "metadata": {},
   "source": [
    "5. Write a Python program that accepts a string from user. Your program should create a new string by\n",
    "shifting one position to left.\n",
    "For example if the user enters the string 'examination 2021' then new string would be 'xamination\n",
    "2021e'"
   ]
  },
  {
   "cell_type": "code",
   "execution_count": 34,
   "id": "e56986a1-f31f-4f8a-99c9-2813d18f2b43",
   "metadata": {},
   "outputs": [
    {
     "name": "stdin",
     "output_type": "stream",
     "text": [
      "Enter a string sarwar\n"
     ]
    },
    {
     "name": "stdout",
     "output_type": "stream",
     "text": [
      "The new string is: arwars\n"
     ]
    }
   ],
   "source": [
    "user_input=input(\"Enter a string\")\n",
    "if len(user_input)==0:\n",
    "    new_string=user_input\n",
    "else:\n",
    "    new_string=user_input[1:] + user_input[0] \n",
    "    \n",
    "print(f\"The new string is: {new_string}\")"
   ]
  },
  {
   "cell_type": "markdown",
   "id": "78ba3c95-6192-4f27-b212-4af14cebd9e2",
   "metadata": {},
   "source": [
    "6. Write a program that asks the user to input his name and print its initials. Assuming that the user\n",
    "always types first name, middle name and last name and does not include any unnecessary spaces.\n",
    "For example, if the user enters Ajay Kumar Garg the program should display A. K. G.\n",
    "Note:Don't use split() method"
   ]
  },
  {
   "cell_type": "code",
   "execution_count": 35,
   "id": "47949ed5-dd97-4549-a3fc-a7be167fe05e",
   "metadata": {},
   "outputs": [
    {
     "name": "stdin",
     "output_type": "stream",
     "text": [
      "Enter your full name (First Middle Last):  Muhammad Sarwar yousaf\n"
     ]
    },
    {
     "name": "stdout",
     "output_type": "stream",
     "text": [
      "The initials are: M. S. Y.\n"
     ]
    }
   ],
   "source": [
    "full_name = input(\"Enter your full name (First Middle Last): \")\n",
    "initials = \"\"\n",
    "new_word = True\n",
    "for char in full_name:\n",
    "    if new_word and char.isalpha():\n",
    "        initials += char.upper() + \". \"\n",
    "        new_word = False\n",
    "    elif char.isspace():\n",
    "        new_word = True\n",
    "initials = initials.strip()\n",
    "print(f\"The initials are: {initials}\")"
   ]
  },
  {
   "cell_type": "markdown",
   "id": "d5aa365b-88fb-46a3-9671-5fa0a75c2292",
   "metadata": {},
   "source": [
    "7. A palindrome is a string that reads the same backward as forward. For example, the words dad,\n",
    "madam and radar are all palindromes. Write a programs that determines whether the string is a\n",
    "palindrome.\n",
    "Note: do not use reverse() method"
   ]
  },
  {
   "cell_type": "code",
   "execution_count": 18,
   "id": "3ad72cdd-3e1c-49f8-b1be-9bbf9695a766",
   "metadata": {},
   "outputs": [
    {
     "name": "stdin",
     "output_type": "stream",
     "text": [
      "Enter a Words maarraam\n"
     ]
    },
    {
     "name": "stdout",
     "output_type": "stream",
     "text": [
      "maarraam\n",
      "'maarraam' is a palindrome.\n"
     ]
    }
   ],
   "source": [
    "user_input=input(\"Enter a Words\")\n",
    "new_word=user_input[::-1]\n",
    "print(new_word)\n",
    "if user_input==new_word:\n",
    "    print(f\"'{user_input}' is a palindrome.\")\n",
    "else:\n",
    "    print(f\"'{user_input}' is not a palindrome.\")\n"
   ]
  },
  {
   "cell_type": "markdown",
   "id": "0bc5ed39-1872-4998-b8ad-a961186815b1",
   "metadata": {},
   "source": [
    "8. Write a program that display following output:\n",
    "SHIFT\n",
    "HIFTS\n",
    "IFTSH\n",
    "FTSHI\n",
    "TSHIF\n",
    "SHIFT"
   ]
  },
  {
   "cell_type": "code",
   "execution_count": 29,
   "id": "f29b81f7-a378-4561-b68e-fae2b52f30cc",
   "metadata": {},
   "outputs": [
    {
     "name": "stdin",
     "output_type": "stream",
     "text": [
      "Enter a String sarwar\n"
     ]
    },
    {
     "name": "stdout",
     "output_type": "stream",
     "text": [
      "sarwar\n",
      "arwars\n",
      "rwarsa\n",
      "warsar\n",
      "arsarw\n",
      "rsarwa\n",
      "sarwar\n"
     ]
    }
   ],
   "source": [
    "user_input=input(\"Enter a String\")\n",
    "new_word=[]\n",
    "new_word.append(user_input)\n",
    "for i in range(1,len(user_input)):\n",
    "    new_words=user_input[i:]+user_input[:i]\n",
    "    new_word.append(new_words)\n",
    "new_word.append(user_input)\n",
    "for string in new_word:\n",
    "    print(string)\n",
    "    "
   ]
  },
  {
   "cell_type": "markdown",
   "id": "33adf959-ad17-454e-bf9e-0a5e6b7370c3",
   "metadata": {},
   "source": [
    "9. Write a program in python that accepts a string to setup a passwords. Your entered password must\n",
    "meet the following requirements:"
   ]
  },
  {
   "cell_type": "code",
   "execution_count": 35,
   "id": "527b14c9-db3c-4753-b1a3-b631bd3e2f73",
   "metadata": {},
   "outputs": [
    {
     "name": "stdin",
     "output_type": "stream",
     "text": [
      "Enter a password:  Sarwar110\n"
     ]
    },
    {
     "name": "stdout",
     "output_type": "stream",
     "text": [
      "Password is Valid.\n"
     ]
    }
   ],
   "source": [
    "def validate_password(password):\n",
    "    if len(password)<8:\n",
    "        return False,\"Password must be at least 8 characters long.\"\n",
    "    if not any(char.isupper() for char in password):\n",
    "        return False,\"Password must contain at least one uppercase letter.\"\n",
    "    if not any(char.islower() for char in password):\n",
    "        return False,\"Password must contain at least one lowercase letter.\"\n",
    "    if not any(char.isdigit() for char in password):\n",
    "        return False,\"Password must contain at least one numeric digit.\"\n",
    "    return True,\"Password is Valid.\"\n",
    "\n",
    "user_password = input(\"Enter a password: \")\n",
    "is_valid, message = validate_password(user_password)\n",
    "print(message)"
   ]
  }
 ],
 "metadata": {
  "kernelspec": {
   "display_name": "Python 3 (ipykernel)",
   "language": "python",
   "name": "python3"
  },
  "language_info": {
   "codemirror_mode": {
    "name": "ipython",
    "version": 3
   },
   "file_extension": ".py",
   "mimetype": "text/x-python",
   "name": "python",
   "nbconvert_exporter": "python",
   "pygments_lexer": "ipython3",
   "version": "3.12.7"
  }
 },
 "nbformat": 4,
 "nbformat_minor": 5
}
