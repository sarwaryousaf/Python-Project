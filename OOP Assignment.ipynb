{
 "cells": [
  {
   "cell_type": "markdown",
   "id": "51e6071d-d7c2-4d97-81d9-a4b06e41d0d3",
   "metadata": {},
   "source": [
    "### Saylani Mass IT \n",
    "### Name   : Muhammad Sarwar\n",
    "### Course : AI and DS\n",
    "### Days   : Tuesday and Thursday\n",
    "### ID     : AI - 333166\n",
    "             "
   ]
  },
  {
   "cell_type": "markdown",
   "id": "4a404b92-8da8-4330-b353-ddd87a9a7b41",
   "metadata": {},
   "source": [
    "1. Write a Python program to create a class called \"Person\" with properties for \n",
    "name, age and country. Include a method to display the person's details. Create \n",
    "two instances of the 'Person' class and display their details. "
   ]
  },
  {
   "cell_type": "code",
   "execution_count": 4,
   "id": "51cbfff7-b07c-4adb-a7f9-cd6d63d25d91",
   "metadata": {},
   "outputs": [],
   "source": [
    "class Person:\n",
    "    def __init__(self,name,age,country):\n",
    "        self.name=name\n",
    "        self.age=age\n",
    "        self.country=country\n",
    "    def PersonDetail(self):\n",
    "        return f\"My Name is {self.name}. I am {self.age} old and i am from {self.country}\" "
   ]
  },
  {
   "cell_type": "code",
   "execution_count": 5,
   "id": "398f72e3-15a4-41df-aa42-cc7cf6bbcf3d",
   "metadata": {},
   "outputs": [
    {
     "data": {
      "text/plain": [
       "'Muhammad Sarwar'"
      ]
     },
     "execution_count": 5,
     "metadata": {},
     "output_type": "execute_result"
    }
   ],
   "source": [
    "p1=Person(\"Muhammad Sarwar\",23,\"Pakistan\")\n",
    "\n",
    "p1.name"
   ]
  },
  {
   "cell_type": "code",
   "execution_count": 6,
   "id": "19283d36-f58e-4c39-b307-324b8115807a",
   "metadata": {},
   "outputs": [
    {
     "data": {
      "text/plain": [
       "'My Name is Muhammad Sarwar. I am 23 old and i am from Pakistan'"
      ]
     },
     "execution_count": 6,
     "metadata": {},
     "output_type": "execute_result"
    }
   ],
   "source": [
    "p2=Person(\"Muhammad Sarwar\",23,\"Pakistan\")\n",
    "p2.PersonDetail()"
   ]
  },
  {
   "cell_type": "markdown",
   "id": "a25dd8c6-7112-46f5-bae8-b01b212ce169",
   "metadata": {},
   "source": [
    "2. Write a Python program to create a class called 'Rectangle' with properties for \n",
    "width and height. Include two methods to calculate rectangle area and perimeter. \n",
    "Create an instance of the 'Rectangle' class and calculate its area and perimeter. "
   ]
  },
  {
   "cell_type": "code",
   "execution_count": 5,
   "id": "a03fa21d-cf58-41ce-94c4-9ca15a69d258",
   "metadata": {},
   "outputs": [],
   "source": [
    "class Rectangle:\n",
    "    def __init__(self,height,width):\n",
    "        self.height=height\n",
    "        self.width=width\n",
    "    def ractangle(self):\n",
    "        return f\"The area of rectangle is {self.height*self.width}\"\n",
    "    def paremeter(self):\n",
    "        return f\"The paremeter of rectangle is {2*self.height+self.width}\"\n",
    "        "
   ]
  },
  {
   "cell_type": "code",
   "execution_count": 8,
   "id": "b4dbb4cc-4ec6-405b-a352-9d6c71599e9e",
   "metadata": {},
   "outputs": [
    {
     "name": "stdout",
     "output_type": "stream",
     "text": [
      "The area of rectangle is 280\n"
     ]
    },
    {
     "data": {
      "text/plain": [
       "'The paremeter of rectangle is 48'"
      ]
     },
     "execution_count": 8,
     "metadata": {},
     "output_type": "execute_result"
    }
   ],
   "source": [
    "r1=Rectangle(14,20)\n",
    "print(r1.ractangle())\n",
    "r1.paremeter()"
   ]
  },
  {
   "cell_type": "markdown",
   "id": "7e1aadc5-8cf6-4a4a-b384-c344195dc720",
   "metadata": {},
   "source": [
    "3. Write a Python program that creates a class called 'Vehicle' with properties for \n",
    "make, model, and year. Include a method to display vehicle details. Create a \n",
    "subclass called 'Car' that inherits from the 'Vehicle' class and includes an \n",
    "additional property for the number of doors. Override the display method to \n",
    "include the number of doors. \n"
   ]
  },
  {
   "cell_type": "code",
   "execution_count": 9,
   "id": "c4f49cc0-8a1a-4e4c-8bd9-a86f74609ed9",
   "metadata": {},
   "outputs": [
    {
     "name": "stdout",
     "output_type": "stream",
     "text": [
      "Make: Toyota\n",
      "Model: Camry\n",
      "Year: 2020\n",
      "\n",
      "\n",
      "Make: Honda\n",
      "Model: Accord\n",
      "Year: 2021\n",
      "Number of doors: 4\n"
     ]
    }
   ],
   "source": [
    "class Vehicle:\n",
    "    def __init__(self, make, model, year):\n",
    "        self.make = make\n",
    "        self.model = model\n",
    "        self.year = year\n",
    "\n",
    "    def display_details(self):\n",
    "        print(f\"Make: {self.make}\")\n",
    "        print(f\"Model: {self.model}\")\n",
    "        print(f\"Year: {self.year}\")\n",
    "\n",
    "class Car(Vehicle):\n",
    "    def __init__(self, make, model, year, doors):\n",
    "        super().__init__(make, model, year)\n",
    "        self.doors = doors\n",
    "\n",
    "    def display_details(self):\n",
    "        super().display_details()\n",
    "        print(f\"Number of doors: {self.doors}\")\n",
    "v1 = Vehicle(\"Toyota\", \"Camry\", 2020)\n",
    "v1.display_details()\n",
    "\n",
    "print(\"\\n\")\n",
    "\n",
    "car = Car(\"Honda\", \"Accord\", 2021, 4)\n",
    "car.display_details()\n"
   ]
  },
  {
   "cell_type": "markdown",
   "id": "869a42c2-5d5e-42f7-b22a-51f5c35d5919",
   "metadata": {},
   "source": [
    " 4. Write a Python program that creates a class called \"BankAccount\" with \n",
    "properties for account number and balance. Include methods to deposit and \n",
    "withdraw money from the account. Create some instances of the \"BankAccount\" \n",
    "class, deposit some money, and withdraw a portion of it. "
   ]
  },
  {
   "cell_type": "code",
   "execution_count": 3,
   "id": "f19e661a-bd03-476b-8387-5d1f7b59b818",
   "metadata": {},
   "outputs": [],
   "source": [
    "class BankAccount:\n",
    "    def __init__(self,account_number,balance=0):\n",
    "        self.account_number=account_number\n",
    "        self.balance=balance\n",
    "    def DepositMoney(self,amount):\n",
    "        if amount>0:\n",
    "            self.balance+=amount\n",
    "            print(f\"Deposited {amount}. New balance is {self.balance}\")\n",
    "        else:\n",
    "            print(\"Deposited amount must be positive\")\n",
    "    def WidthDraw(self,amount):\n",
    "        if 0<amount<=self.balance:\n",
    "            self.balance-=amount\n",
    "            print(f\" widthdrew {amount}. New balance is {self.balance}\")\n",
    "        else:\n",
    "            print(\"Insufficient balance\")\n",
    "        "
   ]
  },
  {
   "cell_type": "code",
   "execution_count": 4,
   "id": "c7e3356f-eed1-47b7-9f6a-b69336f06a3b",
   "metadata": {},
   "outputs": [],
   "source": [
    "b1=BankAccount(1112313,40000)"
   ]
  },
  {
   "cell_type": "code",
   "execution_count": 8,
   "id": "895025c0-a56a-4454-9356-30e8deb60a7b",
   "metadata": {},
   "outputs": [
    {
     "data": {
      "text/plain": [
       "41000"
      ]
     },
     "execution_count": 8,
     "metadata": {},
     "output_type": "execute_result"
    }
   ],
   "source": [
    "b1.balance"
   ]
  },
  {
   "cell_type": "code",
   "execution_count": 7,
   "id": "98c25965-ea50-46d5-ae39-35a8e6aac70c",
   "metadata": {},
   "outputs": [
    {
     "name": "stdout",
     "output_type": "stream",
     "text": [
      "Deposited 3000. New balance is 46000\n",
      " widthdrew 5000. New balance is 41000\n"
     ]
    }
   ],
   "source": [
    "b1.DepositMoney(3000)\n",
    "b1.WidthDraw(5000)"
   ]
  },
  {
   "cell_type": "markdown",
   "id": "e9e2895c-fec1-4d71-970e-4b3380763938",
   "metadata": {},
   "source": [
    "5. Write a Python program that creates a class called 'Shape' with a method to \n",
    "calculate the area. Create two subclasses, 'Circle' and 'Triangle', that inherit from \n",
    "the 'Shape' class and override the area calculation method. Create an instance of \n",
    "the 'Circle' class and calculate its area. Similarly, do the same for the 'Triangle' \n",
    "class. "
   ]
  },
  {
   "cell_type": "code",
   "execution_count": 30,
   "id": "92d8b816-1090-4884-a628-8cca060d45aa",
   "metadata": {},
   "outputs": [
    {
     "name": "stdout",
     "output_type": "stream",
     "text": [
      "The area of circle with radius 6 is 113.04\n",
      "The area of circle with base 12 height 14 is 84.0\n"
     ]
    }
   ],
   "source": [
    "class Shape:\n",
    "    def area(self):\n",
    "        pass\n",
    "class Circle(Shape):\n",
    "    def __init__(self,radius):\n",
    "        self.radius=radius\n",
    "    def area(self):\n",
    "        return 3.14*(self.radius**2)\n",
    "class Triangle(Shape):\n",
    "    def __init__(self,base,height):\n",
    "        self.base=base\n",
    "        self.height=height\n",
    "    def area(self):\n",
    "        return 0.5*self.base*self.height\n",
    "c1=Circle(6)\n",
    "print(f\"The area of circle with radius {c1.radius} is {c1.area()}\")\n",
    "t1=Triangle(12,14)\n",
    "\n",
    "print(f\"The area of circle with base {t1.base} height {t1.height} is {t1.area()}\")\n",
    "        "
   ]
  },
  {
   "cell_type": "markdown",
   "id": "86c87ab0-6aac-4175-8faf-270695b3e3a3",
   "metadata": {},
   "source": [
    "6. Write a Python program that creates a class called 'Employee' with properties \n",
    "for name and salary. Include a method to calculate annual salary. Create a \n",
    "subclass called 'Manager' that inherits from the 'Employee' class and adds an \n",
    "additional property for department. Override the annual salary calculation method \n",
    "to include bonuses for managers. Create two instances of the 'Manager' class \n",
    "and calculate their annual salary. \n"
   ]
  },
  {
   "cell_type": "code",
   "execution_count": 37,
   "id": "1886cec7-0362-4969-b924-6a9bd37ad9a2",
   "metadata": {},
   "outputs": [
    {
     "name": "stdout",
     "output_type": "stream",
     "text": [
      "Annual salary of Sarwar, who is a manager in HR department, is: 1810000\n",
      "Annual salary of Yousaf, who is a manager in IT department, is: 1570000\n"
     ]
    }
   ],
   "source": [
    "class Employee:\n",
    "    def __init__(self,name,salary):\n",
    "        self.name=name\n",
    "        self.salary=salary\n",
    "    def Annual_Salary(self):\n",
    "        return self.salary*12\n",
    "class Manager(Employee):\n",
    "    def __init__(self,name,salary,department,bonus):\n",
    "        super().__init__(name,salary)\n",
    "        self.department=department\n",
    "        self.bonus=bonus\n",
    "    def Annual_Salary(self):\n",
    "        return super().Annual_Salary()+self.bonus\n",
    "m1=Manager(\"Sarwar\",150000,\"HR\",10000)\n",
    "m1.Annual_Salary()\n",
    "m2=Manager(\"Yousaf\",130000,\"IT\",10000)\n",
    "m2.Annual_Salary()\n",
    "print(f\"Annual salary of {m1.name}, who is a manager in {m1.department} department, is: {m1.Annual_Salary()}\") \n",
    "print(f\"Annual salary of {m2.name}, who is a manager in {m2.department} department, is: {m2.Annual_Salary()}\")"
   ]
  },
  {
   "cell_type": "markdown",
   "id": "eeb2163d-c7f2-4102-bc9f-6fc5f4d1c9af",
   "metadata": {},
   "source": [
    "7. Write a Python program that creates a class `Book` with properties for title, \n",
    "author, and publication year. Include a method to display book details. Create a \n",
    "subclass called 'Ebook' that inherits from the 'Book' class and includes an \n",
    "additional property for book price. Override the display method to include the \n",
    "book price. Create an instance of the 'Ebook' class and display its details."
   ]
  },
  {
   "cell_type": "code",
   "execution_count": null,
   "id": "a36319f0-e47c-4a49-a2af-1ba98c1b8e31",
   "metadata": {},
   "outputs": [],
   "source": []
  },
  {
   "cell_type": "code",
   "execution_count": null,
   "id": "93508a6a-cc0b-4fcc-9912-7c631594ae88",
   "metadata": {},
   "outputs": [],
   "source": []
  },
  {
   "cell_type": "code",
   "execution_count": 1,
   "id": "058f98d1-ea57-4625-9c1f-3a458bc80c0b",
   "metadata": {},
   "outputs": [],
   "source": [
    "class Book:\n",
    "    def __init__(self,title,auther,p_year):\n",
    "        self.title=title\n",
    "        self.auther=auther\n",
    "        self.p_year=p_year\n",
    "    def Display_Detail(self):\n",
    "        return f\"The {self.title} is written by {self.auther} in {self.p_year}\"\n",
    "class E_Book(Book):\n",
    "        def __init__(self,title,auther,p_year,price):\n",
    "            super().__init__(title,auther,p_year)\n",
    "            self.price=price\n",
    "        def Display_Detail(self):\n",
    "            return f\"The {self.title} is written by {self.auther} in year {self.p_year} and its price {self.price}\""
   ]
  },
  {
   "cell_type": "code",
   "execution_count": 2,
   "id": "e23a086f-5a6f-4f74-83c4-69fc2e13e638",
   "metadata": {},
   "outputs": [
    {
     "data": {
      "text/plain": [
       "'The Linear Algebra is written by John Herry in year 2004 and its price 2500'"
      ]
     },
     "execution_count": 2,
     "metadata": {},
     "output_type": "execute_result"
    }
   ],
   "source": [
    "eb1=E_Book(\"Linear Algebra\",\"John Herry\",2004,2500)\n",
    "eb1.Display_Detail()"
   ]
  },
  {
   "cell_type": "code",
   "execution_count": 3,
   "id": "7a7b8660-b306-48ed-998e-70d3447ca66d",
   "metadata": {},
   "outputs": [
    {
     "data": {
      "text/plain": [
       "'The Software Design is written by Ahmed Muneer in 2014'"
      ]
     },
     "execution_count": 3,
     "metadata": {},
     "output_type": "execute_result"
    }
   ],
   "source": [
    "b1=Book(\"Software Design\",\"Ahmed Muneer\",2014)\n",
    "b1.Display_Detail()"
   ]
  },
  {
   "cell_type": "markdown",
   "id": "23e2aa87-b3e7-42ee-bc74-ef51aed27db6",
   "metadata": {},
   "source": [
    "8. Write a Python program that creates a class called 'Animal' with properties for \n",
    "species and sound. Include a method to make the animal's sound. Create a \n",
    "subclass called 'Dog' that inherits from the 'Animal' class and adds an additional \n",
    "property for color. Override the make sound method to include the dog's color. \n",
    "Create an instance of the 'Dog' class and make it make its sound. "
   ]
  },
  {
   "cell_type": "code",
   "execution_count": 5,
   "id": "cafc658c-a1ec-4168-aa17-d00f1c4bce0d",
   "metadata": {},
   "outputs": [
    {
     "data": {
      "text/plain": [
       "\"The brown dog goes 'woof\""
      ]
     },
     "execution_count": 5,
     "metadata": {},
     "output_type": "execute_result"
    }
   ],
   "source": [
    "class Animal:\n",
    "    def __init__(self,species,sound):\n",
    "        self.species=species\n",
    "        self.sound=sound\n",
    "    def make_Sound(self):\n",
    "        return f\"The {self.species} goes '{self.sound}\"\n",
    "class Dog(Animal):\n",
    "     def __init__(self,species,sound,color):\n",
    "         super().__init__(species,sound)\n",
    "         self.color=color\n",
    "     def make_Sound(self):\n",
    "        return  f\"The {self.color} {self.species} goes '{self.sound}\"   \n",
    "d=Dog(\"dog\", \"woof\", \"brown\")\n",
    "d.make_Sound()"
   ]
  },
  {
   "cell_type": "markdown",
   "id": "a3bac0b7-95da-45d4-b1f5-3cae57eec6f2",
   "metadata": {},
   "source": [
    "9. Write a Python program that creates a class called Bank with properties for \n",
    "bank names and branches. Include methods to add a branch, remove a branch, \n",
    "and display all branches. Create an instance of the Bank class and perform \n",
    "operations to add and remove branches. "
   ]
  },
  {
   "cell_type": "code",
   "execution_count": 10,
   "id": "00b5c6c0-0fe9-4d45-b9fb-0c126b799296",
   "metadata": {},
   "outputs": [
    {
     "name": "stdout",
     "output_type": "stream",
     "text": [
      "karachi Branch added in to National Bank\n",
      "Lahore Branch added in to National Bank\n",
      "Islamabad Branch added in to National Bank\n",
      "Branch lahore is not found in National Bank\n",
      "branches of National Bank\n",
      "-karachi\n",
      "-Lahore\n",
      "-Islamabad\n"
     ]
    }
   ],
   "source": [
    "class Bank:\n",
    "    def __init__(self,name):\n",
    "        self.name=name\n",
    "        self.branches=[]\n",
    "    def Add_branch(self,branch):\n",
    "        self.branches.append(branch)\n",
    "        print(f\"{branch} Branch added in to {self.name}\")\n",
    "    def remove_branch(self,branch):\n",
    "        if branch in self.branches:\n",
    "            self.branchs.remove(branch)\n",
    "            print(f\"{branch} Branch remove from {self.name}\")\n",
    "        else:\n",
    "            print(f\"Branch {branch} is not found in {self.name}\")\n",
    "    def Display_branches(self):\n",
    "        if self.branches:\n",
    "            print(f\"branches of {self.name}\")\n",
    "            for branch in self.branches:\n",
    "                print(f\"-{branch}\")\n",
    "        else:\n",
    "                print(f\"No branch available in {self.name}\")\n",
    "bank=Bank(\"National Bank\")\n",
    "bank.Add_branch(\"karachi\")\n",
    "bank.Add_branch(\"Lahore\")\n",
    "bank.Add_branch(\"Islamabad\")\n",
    "bank.remove_branch(\"lahore\")\n",
    "bank.Display_branches()\n"
   ]
  },
  {
   "cell_type": "markdown",
   "id": "8eb63d00-4b23-490e-bd5b-62f08e6fa600",
   "metadata": {},
   "source": [
    "10. Write a Python program that creates a class called Product with properties for \n",
    "product ID, name, and price. Include a method to calculate the total price by \n",
    "multiplying the price by the quantity. Create a subclass called \n",
    "PersonalCareProduct that inherits from the Product class and adds an additional \n",
    "property for the warranty period. Override the total price calculation method to \n",
    "include the warranty period. Create an instance of the PersonalCareProduct \n",
    "class and calculate its total price."
   ]
  },
  {
   "cell_type": "code",
   "execution_count": 20,
   "id": "cdd57b92-e748-4abc-9214-ded57ed7eea4",
   "metadata": {},
   "outputs": [
    {
     "name": "stdout",
     "output_type": "stream",
     "text": [
      "Total price for 10 units of FaceWash: $1100.00\n"
     ]
    }
   ],
   "source": [
    "class Product:\n",
    "    def __init__(self,ID,name,price):\n",
    "        self.ID=ID\n",
    "        self.name=name\n",
    "        self.price=price\n",
    "    def calculate_total_price(self,quantity):\n",
    "        return self.price*quantity\n",
    "class PersonalCareProduct(Product):\n",
    "    \n",
    "    def __init__(self,ID,name,price,warranty_period):\n",
    "        super().__init__(ID,name,price)\n",
    "        self.warranty_period=warranty_period\n",
    "\n",
    "    \n",
    "    def calculate_total_price(self,quantity):\n",
    "        base_price=super().calculate_total_price(quantity)\n",
    "        return base_price\n",
    "        \n",
    "pcp=PersonalCareProduct(11,\"FaceWash\",110,\"1 year\")\n",
    "quantity = 10 \n",
    "total_price = pcp.calculate_total_price(quantity) \n",
    "print(f\"Total price for {quantity} units of {pcp.name}: ${total_price:.2f}\")"
   ]
  },
  {
   "cell_type": "markdown",
   "id": "e478875e-4c55-4aa8-828c-c260a0394545",
   "metadata": {},
   "source": [
    "11. Write a Python program that creates a class called BankAccount with \n",
    "properties for account number, account holder name, and balance. Include \n",
    "methods to deposit, withdraw, and transfer money between accounts. Create \n",
    "multiple instances of the BankAccount class and perform operations such as \n",
    "depositing, withdrawing, and transferring money. "
   ]
  },
  {
   "cell_type": "code",
   "execution_count": 27,
   "id": "41468a70-e865-42e6-bdd4-fcf094324feb",
   "metadata": {},
   "outputs": [
    {
     "name": "stdout",
     "output_type": "stream",
     "text": [
      "Deposited 200. New balance is 1200\n",
      "Ali's account balance: $1200.00\n",
      "Withdrew 100. New balance is 400\n",
      "Baber's account balance: $400.00\n",
      "Transferred $300.00 from Ali's account to Baber's account.\n",
      "Ali's account balance: $900.00\n",
      "Baber's account balance: $700.00\n"
     ]
    }
   ],
   "source": [
    "class BankAccount:\n",
    "    def __init__(self, account_number, account_holder_name, balance=0):\n",
    "        self.account_number = account_number\n",
    "        self.account_holder_name = account_holder_name\n",
    "        self.balance = balance\n",
    "\n",
    "    def DepositMoney(self, amount):\n",
    "        if amount > 0:\n",
    "            self.balance += amount\n",
    "            print(f\"Deposited {amount}. New balance is {self.balance}\")\n",
    "        else:\n",
    "            print(\"Deposit amount must be positive.\")\n",
    "\n",
    "    def Withdraw(self, amount):\n",
    "        if 0 < amount <= self.balance:\n",
    "            self.balance -= amount\n",
    "            print(f\"Withdrew {amount}. New balance is {self.balance}\")\n",
    "        else:\n",
    "            print(\"Insufficient balance or invalid amount.\")\n",
    "\n",
    "    def transfer_money(self, target_account, amount):\n",
    "        if 0 < amount <= self.balance:\n",
    "            self.balance -= amount\n",
    "            target_account.balance += amount\n",
    "            print(f\"Transferred ${amount:.2f} from {self.account_holder_name}'s account to {target_account.account_holder_name}'s account.\")\n",
    "        else:\n",
    "            print(\"Insufficient balance or invalid amount.\")\n",
    "\n",
    "    def display_balance(self):\n",
    "        print(f\"{self.account_holder_name}'s account balance: ${self.balance:.2f}\")\n",
    "\n",
    "\n",
    "account1 = BankAccount(111, \"Ali\", 1000)\n",
    "account2 = BankAccount(112, \"Baber\", 500)\n",
    "\n",
    "\n",
    "account1.DepositMoney(200)\n",
    "account1.display_balance()\n",
    "\n",
    "account2.Withdraw(100)\n",
    "account2.display_balance()\n",
    "\n",
    "account1.transfer_money(account2, 300)\n",
    "account1.display_balance()\n",
    "account2.display_balance()\n"
   ]
  },
  {
   "cell_type": "code",
   "execution_count": 29,
   "id": "4103e83f-a73c-4c8f-a9a7-a7c5bbc4bcb4",
   "metadata": {},
   "outputs": [
    {
     "name": "stdout",
     "output_type": "stream",
     "text": [
      "Department 'Computer Science' added to SMI University\n",
      "Department 'Mathematics' added to SMI University\n",
      "Department 'Physics' added to SMI University\n",
      "Departments of SMI University:\n",
      " - Computer Science\n",
      " - Mathematics\n",
      " - Physics\n",
      "Department 'Physics' removed from SMI University\n",
      "Departments of SMI University:\n",
      " - Computer Science\n",
      " - Mathematics\n"
     ]
    }
   ],
   "source": [
    "class University:\n",
    "    def __init__(self, name):\n",
    "        self.name = name\n",
    "        self.departments = []\n",
    "\n",
    "    def add_department(self, department):\n",
    "        self.departments.append(department)\n",
    "        print(f\"Department '{department}' added to {self.name}\")\n",
    "\n",
    "    def remove_department(self, department):\n",
    "        if department in self.departments:\n",
    "            self.departments.remove(department)\n",
    "            print(f\"Department '{department}' removed from {self.name}\")\n",
    "        else:\n",
    "            print(f\"Department '{department}' not found in {self.name}\")\n",
    "\n",
    "    def display_departments(self):\n",
    "        if self.departments:\n",
    "            print(f\"Departments of {self.name}:\")\n",
    "            for department in self.departments:\n",
    "                print(f\" - {department}\")\n",
    "        else:\n",
    "            print(f\"No departments available in {self.name}\")\n",
    "\n",
    "\n",
    "my_uni = University(\"SMI University\")\n",
    "\n",
    "\n",
    "my_uni.add_department(\"Computer Science\")\n",
    "my_uni.add_department(\"Mathematics\")\n",
    "my_uni.add_department(\"Physics\")\n",
    "\n",
    "\n",
    "my_uni.display_departments()\n",
    "\n",
    "my_uni.remove_department(\"Physics\")\n",
    "\n",
    "\n",
    "my_uni.display_departments()\n"
   ]
  },
  {
   "cell_type": "code",
   "execution_count": null,
   "id": "708cc3c9-5efc-41bd-af44-181374bf7028",
   "metadata": {},
   "outputs": [],
   "source": []
  }
 ],
 "metadata": {
  "kernelspec": {
   "display_name": "Python 3 (ipykernel)",
   "language": "python",
   "name": "python3"
  },
  "language_info": {
   "codemirror_mode": {
    "name": "ipython",
    "version": 3
   },
   "file_extension": ".py",
   "mimetype": "text/x-python",
   "name": "python",
   "nbconvert_exporter": "python",
   "pygments_lexer": "ipython3",
   "version": "3.12.7"
  }
 },
 "nbformat": 4,
 "nbformat_minor": 5
}
