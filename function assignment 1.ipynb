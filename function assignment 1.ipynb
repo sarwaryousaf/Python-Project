{
 "cells": [
  {
   "cell_type": "markdown",
   "id": "28477a11-0cff-4d52-a2c4-08c21c64df6d",
   "metadata": {},
   "source": [
    "## Saylani Mass IT \n",
    "### Name   : Muhammad Sarwar\n",
    "### Course : AI and DS\n",
    "### Days   : Tuesday and Thursday\n",
    "### ID     : AI - 333166"
   ]
  },
  {
   "cell_type": "code",
   "execution_count": 32,
   "id": "6fd76d93-0420-4735-8326-8dd921962e4c",
   "metadata": {},
   "outputs": [
    {
     "name": "stdout",
     "output_type": "stream",
     "text": [
      "The maximum number is:7\n"
     ]
    }
   ],
   "source": [
    "def maxNum(num1,num2,num3):\n",
    "    if num1>num2 and num1>num3:\n",
    "        maxNumber=num1\n",
    "        return maxNumber\n",
    "        \n",
    "    elif num2>num3:\n",
    "        maxNumber=num2\n",
    "        return maxNumber\n",
    "         \n",
    "    else:\n",
    "        maxNumber=num3\n",
    "        return maxNumber\n",
    "            \n",
    "maxNumber=maxNum(1,7,4)\n",
    "print(f\"The maximum number is:{maxNumber}\")"
   ]
  },
  {
   "cell_type": "code",
   "execution_count": 35,
   "id": "81df5e54-65c7-4f6b-a0b3-c44be3eb8649",
   "metadata": {},
   "outputs": [
    {
     "data": {
      "text/plain": [
       "40"
      ]
     },
     "execution_count": 35,
     "metadata": {},
     "output_type": "execute_result"
    }
   ],
   "source": [
    "maxNum(3,40,3)"
   ]
  },
  {
   "cell_type": "code",
   "execution_count": 34,
   "id": "e7138dc6-ec05-43c8-b860-fe89a3866e0a",
   "metadata": {},
   "outputs": [
    {
     "data": {
      "text/plain": [
       "30"
      ]
     },
     "execution_count": 34,
     "metadata": {},
     "output_type": "execute_result"
    }
   ],
   "source": [
    "maxNum(10,30,20)"
   ]
  },
  {
   "cell_type": "markdown",
   "id": "6c54df4a-c72c-45bd-8847-3810f714f10e",
   "metadata": {},
   "source": [
    "2. Write a Python function to sum all the numbers in a list. \n",
    "Sample List : (8, 2, 3, 0, 7) \n",
    "Expected Output : 20 \n"
   ]
  },
  {
   "cell_type": "code",
   "execution_count": 56,
   "id": "30be7a8b-52a3-47dc-ae34-1ec67b2bf6b4",
   "metadata": {},
   "outputs": [],
   "source": [
    "def sum_of_List():\n",
    "    num=input(\"Enter a list element\")\n",
    "    List1=num.split()\n",
    "    Sum=0\n",
    "    for i in List1:\n",
    "        Sum+=int(i)\n",
    "    print(f\"Sum of List:{Sum}\")"
   ]
  },
  {
   "cell_type": "code",
   "execution_count": 57,
   "id": "5cfeffc9-9706-440c-b17f-9d189aea3f00",
   "metadata": {},
   "outputs": [
    {
     "name": "stdin",
     "output_type": "stream",
     "text": [
      "Enter a list element 3 4 5 6 7\n"
     ]
    },
    {
     "name": "stdout",
     "output_type": "stream",
     "text": [
      "Sum of List:25\n"
     ]
    }
   ],
   "source": [
    "sum_of_List()"
   ]
  },
  {
   "cell_type": "markdown",
   "id": "828908a3-e064-4b8a-99ad-76a4eb5085dc",
   "metadata": {},
   "source": [
    "3. Write a Python function to multiply all the numbers in a list. \n",
    "Sample List : (8, 2, 3, -1, 7) \n",
    "Expected Output : -336 \n"
   ]
  },
  {
   "cell_type": "code",
   "execution_count": 60,
   "id": "62d2cc79-794c-4b55-aab7-d0f3dd027ac7",
   "metadata": {},
   "outputs": [],
   "source": [
    "def Prod_of_List():\n",
    "    num=input(\"Enter a list element\")\n",
    "    List1=num.split()\n",
    "    Prod=1\n",
    "    for i in List1:\n",
    "        Prod*=int(i)\n",
    "    print(f\"Product of List:{Prod}\")"
   ]
  },
  {
   "cell_type": "code",
   "execution_count": 62,
   "id": "bfed2ca7-42bd-4ea5-b5b1-9bddca56ce01",
   "metadata": {},
   "outputs": [
    {
     "name": "stdin",
     "output_type": "stream",
     "text": [
      "Enter a list element 3 4 5 44\n"
     ]
    },
    {
     "name": "stdout",
     "output_type": "stream",
     "text": [
      "Sum of List:2640\n"
     ]
    }
   ],
   "source": [
    "Prod_of_List()"
   ]
  },
  {
   "cell_type": "markdown",
   "id": "67ef7ec4-092f-4f96-afb1-419a29c2d1bc",
   "metadata": {},
   "source": [
    "4. Write a Python program to reverse a string. \n",
    "Sample String : \"1234abcd\" \n",
    "Expected Output : \"dcba4321\" "
   ]
  },
  {
   "cell_type": "code",
   "execution_count": 69,
   "id": "ba366d4c-e747-4342-9732-3f99a20343c6",
   "metadata": {},
   "outputs": [],
   "source": [
    "def Reverse_Of_string():\n",
    "    string=input(\"Enter a String\")\n",
    "    revStr=string[::-1]\n",
    "    print(f\"the reverse of string :{revStr}\")"
   ]
  },
  {
   "cell_type": "code",
   "execution_count": 70,
   "id": "dd157a01-c71a-4ed1-aff0-c41176648381",
   "metadata": {},
   "outputs": [
    {
     "name": "stdin",
     "output_type": "stream",
     "text": [
      "Enter a String mumtaz\n"
     ]
    },
    {
     "name": "stdout",
     "output_type": "stream",
     "text": [
      "the reverse of string :zatmum\n"
     ]
    }
   ],
   "source": [
    "Reverse_Of_string()"
   ]
  },
  {
   "cell_type": "markdown",
   "id": "6f5835fe-664b-46c0-88ac-5452bb154e1b",
   "metadata": {},
   "source": [
    "5. Write a Python function to calculate the factorial of a number (a non-negative \n",
    "integer). The function accepts the number as an argument."
   ]
  },
  {
   "cell_type": "code",
   "execution_count": 86,
   "id": "1337ca9c-cbe4-405f-812f-f36ee8536424",
   "metadata": {},
   "outputs": [],
   "source": [
    "def factorial_of_num(num):\n",
    "    if num<0:\n",
    "        return \"Factorial does not exist for negative numbers.\"\n",
    "    elif num==0:\n",
    "        return 1\n",
    "    else:\n",
    "        result=1\n",
    "        for i in range(1,num+1):\n",
    "            result*=i\n",
    "        return result"
   ]
  },
  {
   "cell_type": "code",
   "execution_count": 87,
   "id": "e67d4abf-780d-425a-8258-07aaf7fa146b",
   "metadata": {},
   "outputs": [
    {
     "data": {
      "text/plain": [
       "5040"
      ]
     },
     "execution_count": 87,
     "metadata": {},
     "output_type": "execute_result"
    }
   ],
   "source": [
    "factorial_of_num(7)"
   ]
  },
  {
   "cell_type": "code",
   "execution_count": 88,
   "id": "eb3c34a9-e3db-4645-aad0-e13a56881ad4",
   "metadata": {},
   "outputs": [
    {
     "name": "stdout",
     "output_type": "stream",
     "text": [
      "The factorial of 5 is: 120\n"
     ]
    }
   ],
   "source": [
    "def factorial(n):\n",
    "    if n < 0:\n",
    "        return \"Factorial does not exist for negative numbers.\"\n",
    "    elif n == 0:\n",
    "        return 1\n",
    "    else:\n",
    "        result = 1\n",
    "        # Calculate the factorial by multiplying all integers from 1 to n\n",
    "        for i in range(1, n + 1):\n",
    "            result *= i\n",
    "        return result\n",
    "number = 5\n",
    "print(f\"The factorial of {number} is: {factorial(number)}\")\n"
   ]
  },
  {
   "cell_type": "markdown",
   "id": "63810a6f-7668-4247-a7de-5efc079b3a79",
   "metadata": {},
   "source": [
    "6. Write a Python function to check whether a number falls within a given range."
   ]
  },
  {
   "cell_type": "code",
   "execution_count": 4,
   "id": "a3db1428-dde4-4798-bef9-578ccf319315",
   "metadata": {},
   "outputs": [
    {
     "name": "stdin",
     "output_type": "stream",
     "text": [
      "Enter a start number: 2\n",
      "Enter a  number: 4\n",
      "Enter a end number: 8\n"
     ]
    },
    {
     "name": "stdout",
     "output_type": "stream",
     "text": [
      "4 falls within the range 2 to 8.\n"
     ]
    }
   ],
   "source": [
    "def check_num(lower,num,upper):\n",
    "    if lower<=num<=upper:\n",
    "        return True\n",
    "    else:\n",
    "        return False\n",
    "        print(f\"{num}the number is in range\")\n",
    "start=int(input(\"Enter a start number:\"))\n",
    "num=int(input(\"Enter a  number:\"))\n",
    "end=int(input(\"Enter a end number:\"))\n",
    "if check_num(start,num,end):\n",
    "    print(f\"{num} falls within the range {start} to {end}.\")\n",
    "else:\n",
    "    print(f\"{num} does not falls within the range {start} to {end}.\")"
   ]
  },
  {
   "cell_type": "markdown",
   "id": "8bbf35df-9bbf-4d9d-af66-dc87749f10fb",
   "metadata": {},
   "source": [
    "7. Write a Python function that accepts a string and counts the number of upper\n",
    "and lower case letters.\n",
    "Sample String : 'The quick Brow Fox'\n",
    "Expected Output :\n",
    "No. of Upper case characters : 3\n",
    "No. of Lower case Characters : 12"
   ]
  },
  {
   "cell_type": "code",
   "execution_count": 6,
   "id": "08495420-8751-4164-84fd-7b3f66dc0590",
   "metadata": {},
   "outputs": [
    {
     "name": "stdin",
     "output_type": "stream",
     "text": [
      "Enter string The Brown Fox Jumping Over The Lazy Dog\n"
     ]
    },
    {
     "name": "stdout",
     "output_type": "stream",
     "text": [
      "No. of Upper case characters: 8\n",
      "No. of Lower case characters: 24\n"
     ]
    }
   ],
   "source": [
    "def count_lower_upper(string):\n",
    "    count={\"upper_case\":0,\"lower_case\":0}\n",
    "    for char in string:\n",
    "        if char.isupper():\n",
    "            count[\"upper_case\"]+=1\n",
    "        elif char.islower():\n",
    "            count[\"lower_case\"]+=1\n",
    "    return count\n",
    "simple_string=input(\"Enter string\")\n",
    "result=count_lower_upper(simple_string)\n",
    "print(f\"No. of Upper case characters: {result['upper_case']}\") \n",
    "print(f\"No. of Lower case characters: {result['lower_case']}\")"
   ]
  },
  {
   "cell_type": "markdown",
   "id": "82948150-b9b1-4273-a23b-d56f9c6e5355",
   "metadata": {},
   "source": [
    "8. Write a Python function that takes a list and returns a new list with distinct\n",
    "elements from the first list.\n",
    "Sample List : [1,2,3,3,3,3,4,5]\n",
    "Unique List : [1, 2, 3, 4, 5]"
   ]
  },
  {
   "cell_type": "code",
   "execution_count": 13,
   "id": "e94b7221-b67a-4afc-be0d-8207c816de26",
   "metadata": {},
   "outputs": [
    {
     "name": "stdin",
     "output_type": "stream",
     "text": [
      "Enter string:   s s g g\n"
     ]
    },
    {
     "name": "stdout",
     "output_type": "stream",
     "text": [
      "Sample List: ['s', 's', 'g', 'g']\n",
      "Unique List: ['g', 's']\n"
     ]
    }
   ],
   "source": [
    "def get_unique_element(lst):\n",
    "    unique_list = list(set(lst))\n",
    "    return unique_list\n",
    "simple_list = input(\"Enter string: \")\n",
    "new_simple_list = simple_list.split()\n",
    "unique_list = get_unique_element(new_simple_list)\n",
    "print(f\"Sample List: {new_simple_list}\")\n",
    "print(f\"Unique List: {unique_list}\")\n"
   ]
  },
  {
   "cell_type": "markdown",
   "id": "dc6d569b-2936-4e4d-85d9-7e3a3fa1f745",
   "metadata": {},
   "source": [
    "9. Write a Python function that takes a number as a parameter and checks\n",
    "whether the number is prime or not.\n",
    "Note : A prime number (or a prime) is a natural number greater than 1 and that\n",
    "has no positive divisors other than 1 and itself."
   ]
  },
  {
   "cell_type": "code",
   "execution_count": 14,
   "id": "c37cff7f-be10-46d1-a24e-dd169c73a3c1",
   "metadata": {},
   "outputs": [
    {
     "name": "stdin",
     "output_type": "stream",
     "text": [
      "Enter a number 34\n"
     ]
    },
    {
     "name": "stdout",
     "output_type": "stream",
     "text": [
      "34 is not a prime number.\n"
     ]
    }
   ],
   "source": [
    "def is_prime(n):\n",
    "    if n <= 1:\n",
    "        return False\n",
    "    if n <= 3:\n",
    "        return True\n",
    "    if n % 2 == 0 or n % 3 == 0:\n",
    "        return False\n",
    "    i = 5\n",
    "    while i * i <= n:\n",
    "        if n % i == 0 or n % (i + 2) == 0:\n",
    "            return False\n",
    "        i += 6\n",
    "    return True\n",
    "\n",
    "number = int (input(\"Enter a number\"))\n",
    "if is_prime(number):\n",
    "    print(f\"{number} is a prime number.\")\n",
    "else:\n",
    "    print(f\"{number} is not a prime number.\")\n"
   ]
  },
  {
   "cell_type": "markdown",
   "id": "b0a51b01-2ed1-484c-ba3f-33820426b164",
   "metadata": {},
   "source": [
    "10. Write a Python program to print the even numbers from a given list.\n",
    "Sample List : [1, 2, 3, 4, 5, 6, 7, 8, 9]\n",
    "Expected Result : [2, 4, 6, 8]"
   ]
  },
  {
   "cell_type": "code",
   "execution_count": 16,
   "id": "f827df07-4b47-466e-841b-34ecb452d98e",
   "metadata": {},
   "outputs": [
    {
     "name": "stdin",
     "output_type": "stream",
     "text": [
      "Enter The Element of List 2 4 6 4 2 1 4 5 7\n"
     ]
    },
    {
     "name": "stdout",
     "output_type": "stream",
     "text": [
      "Sample List: ['2', '4', '6', '4', '2', '1', '4', '5', '7']\n",
      "Even Numbers: [2, 4, 6, 4, 2, 4]\n"
     ]
    }
   ],
   "source": [
    "def print_even_numbers(lst):\n",
    "    even_numbers = [int(num) for num in lst if int(num) % 2 == 0]\n",
    "    return even_numbers\n",
    "sample_list = input(\"Enter The Element of List\")\n",
    "new_list=sample_list.split()\n",
    "even_numbers = print_even_numbers(new_list)\n",
    "\n",
    "print(f\"Sample List: {new_list}\")\n",
    "print(f\"Even Numbers: {even_numbers}\")\n"
   ]
  },
  {
   "cell_type": "markdown",
   "id": "537e8335-4f6a-49ad-8235-91cf97dfe346",
   "metadata": {},
   "source": [
    "11. Write a Python function to check whether a number is \"Perfect\" or not.\n",
    "According to Wikipedia : In number theory, a perfect number is a positive integer\n",
    "that is equal to the sum of its proper positive divisors, that is, the sum of its\n",
    "positive divisors excluding the number itself (also known as its aliquot sum).\n",
    "Equivalently, a perfect number is a number that is half the sum of all of its\n",
    "positive divisors (including itself).\n",
    "Example : The first perfect number is 6, because 1, 2, and 3 are its proper positive\n",
    "divisors, and 1 + 2 + 3 = 6. Equivalently, the number 6 is equal to half the sum of\n",
    "all its positive divisors: ( 1 + 2 + 3 + 6 ) / 2 = 6. The next perfect number is 28 = 1 +\n",
    "2 + 4 + 7 + 14. This is followed by the perfect numbers 496 and 8128."
   ]
  },
  {
   "cell_type": "code",
   "execution_count": 20,
   "id": "8ba0ea41-4be0-42dd-b608-76a88bcd78c3",
   "metadata": {},
   "outputs": [
    {
     "name": "stdin",
     "output_type": "stream",
     "text": [
      "Enter a number 6\n"
     ]
    },
    {
     "name": "stdout",
     "output_type": "stream",
     "text": [
      "6 is a perfect number.\n"
     ]
    }
   ],
   "source": [
    "def is_perfect_number(n):\n",
    "   if n <= 1:\n",
    "        return False\n",
    "    \n",
    "    divisors_sum = sum(i for i in range(1, n) if n % i == 0)\n",
    "    return divisors_sum == n\n",
    "\n",
    "number = int(input(\"Enter a number\"))\n",
    "if is_perfect_number(number):\n",
    "    print(f\"{number} is a perfect number.\")\n",
    "else:\n",
    "    print(f\"{number} is not a perfect number.\")\n"
   ]
  },
  {
   "cell_type": "markdown",
   "id": "8c383c4f-51ef-464a-80b5-adf2e97a95f5",
   "metadata": {},
   "source": [
    "12. Write a Python function that checks whether a passed string is a palindrome\n",
    "or not.\n",
    "Note: A palindrome is a word, phrase, or sequence that reads the same backward\n",
    "as forward, e.g., madam or nurses run."
   ]
  },
  {
   "cell_type": "code",
   "execution_count": 22,
   "id": "95fac1b5-f4a2-43cb-bfa9-3f659a5e92f7",
   "metadata": {},
   "outputs": [
    {
     "name": "stdout",
     "output_type": "stream",
     "text": [
      "'non' is a palindrome.\n"
     ]
    }
   ],
   "source": [
    "def is_palindrome(s):\n",
    "    cleaned_string = ''.join(s.split()).lower()\n",
    "    return cleaned_string == cleaned_string[::-1]\n",
    "\n",
    "sample_string = \"non\"\n",
    "if is_palindrome(sample_string):\n",
    "    print(f\"'{sample_string}' is a palindrome.\")\n",
    "else:\n",
    "    print(f\"'{sample_string}' is not a palindrome.\")\n"
   ]
  },
  {
   "cell_type": "code",
   "execution_count": null,
   "id": "d2c47839-b21d-4e47-a25f-da1d959c1792",
   "metadata": {},
   "outputs": [],
   "source": []
  }
 ],
 "metadata": {
  "kernelspec": {
   "display_name": "Python 3 (ipykernel)",
   "language": "python",
   "name": "python3"
  },
  "language_info": {
   "codemirror_mode": {
    "name": "ipython",
    "version": 3
   },
   "file_extension": ".py",
   "mimetype": "text/x-python",
   "name": "python",
   "nbconvert_exporter": "python",
   "pygments_lexer": "ipython3",
   "version": "3.12.7"
  }
 },
 "nbformat": 4,
 "nbformat_minor": 5
}
