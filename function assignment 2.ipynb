{
 "cells": [
  {
   "cell_type": "markdown",
   "id": "adc8dac8-424f-4f58-9632-81937e6b5220",
   "metadata": {},
   "source": [
    "## Saylani Mass IT \n",
    "### Name   : Muhammad Sarwar\n",
    "### Course : AI and DS\n",
    "### Days   : Tuesday and Thursday\n",
    "### ID     : AI - 333166"
   ]
  },
  {
   "cell_type": "markdown",
   "id": "d4b819d8-ae19-4cbe-9b89-1d98e6560f50",
   "metadata": {},
   "source": [
    "## Task1:\n",
    "You need to write a function in python that return all such numbers which are\n",
    "divisible by 7 but are not a multiple of 5, between 2000 and 3200 (both included).\n",
    "Return the obtained numbers in a comma-separated sequence on a single line."
   ]
  },
  {
   "cell_type": "code",
   "execution_count": 4,
   "id": "26e5286f-42cb-4ae2-a431-c15af04ec838",
   "metadata": {},
   "outputs": [
    {
     "name": "stdout",
     "output_type": "stream",
     "text": [
      "2002, 2009, 2016, 2023, 2037, 2044, 2051, 2058, 2072, 2079, 2086, 2093, 2107, 2114, 2121, 2128, 2142, 2149, 2156, 2163, 2177, 2184, 2191, 2198, 2212, 2219, 2226, 2233, 2247, 2254, 2261, 2268, 2282, 2289, 2296, 2303, 2317, 2324, 2331, 2338, 2352, 2359, 2366, 2373, 2387, 2394, 2401, 2408, 2422, 2429, 2436, 2443, 2457, 2464, 2471, 2478, 2492, 2499, 2506, 2513, 2527, 2534, 2541, 2548, 2562, 2569, 2576, 2583, 2597, 2604, 2611, 2618, 2632, 2639, 2646, 2653, 2667, 2674, 2681, 2688, 2702, 2709, 2716, 2723, 2737, 2744, 2751, 2758, 2772, 2779, 2786, 2793, 2807, 2814, 2821, 2828, 2842, 2849, 2856, 2863, 2877, 2884, 2891, 2898, 2912, 2919, 2926, 2933, 2947, 2954, 2961, 2968, 2982, 2989, 2996, 3003, 3017, 3024, 3031, 3038, 3052, 3059, 3066, 3073, 3087, 3094, 3101, 3108, 3122, 3129, 3136, 3143, 3157, 3164, 3171, 3178, 3192, 3199\n"
     ]
    }
   ],
   "source": [
    "def find_numbers():\n",
    "    numbers = [str(num) for num in range(2000, 3201) if num % 7 == 0 and num % 5 != 0]\n",
    "    return \", \".join(numbers)\n",
    "\n",
    "\n",
    "result = find_numbers()\n",
    "print(result)\n"
   ]
  },
  {
   "cell_type": "markdown",
   "id": "de0649f0-a48a-4074-8f0a-f60c0c91ee79",
   "metadata": {},
   "source": [
    "## Task2:\n",
    "You need code a function that calculates and returns the value according to the\n",
    "given formula:\n",
    "P = Square root of [(2 * A * B)/C]\n",
    "Following are the fixed values of A and B:\n",
    "A is 50. B is 30.\n",
    "The values of the literal C should be taken as console input to your program in a\n",
    "comma-separated sequence.\n",
    "Example\n",
    "Let us assume the following comma separated input sequence is given to the\n",
    "program:\n",
    "100,150,180\n",
    "The output of the program should be:\n",
    "18,22,24"
   ]
  },
  {
   "cell_type": "code",
   "execution_count": 6,
   "id": "737720b0-00b8-4f59-a403-accc17829327",
   "metadata": {},
   "outputs": [
    {
     "name": "stdin",
     "output_type": "stream",
     "text": [
      "Enter comma-separated values for C:  100,150,180\n"
     ]
    },
    {
     "name": "stdout",
     "output_type": "stream",
     "text": [
      "5, 4, 4\n"
     ]
    }
   ],
   "source": [
    "import math\n",
    "\n",
    "def calculate_values(c_values):\n",
    "    A = 50\n",
    "    B = 30\n",
    "    results = []\n",
    "    \n",
    "    for C in c_values:\n",
    "        P = math.sqrt((2 * A * B) / C)\n",
    "        results.append(round(P))\n",
    "    \n",
    "    return results\n",
    "\n",
    "input_values = input(\"Enter comma-separated values for C: \")\n",
    "c_values = [int(x) for x in input_values.split(',')]\n",
    "calculated_values = calculate_values(c_values)\n",
    "\n",
    "output = \", \".join(map(str, calculated_values))\n",
    "print(output)\n"
   ]
  },
  {
   "cell_type": "markdown",
   "id": "18b66feb-e4f4-45c2-9822-21674d32bef4",
   "metadata": {},
   "source": [
    "## Task3:\n",
    "You need to write a function that takes a comma separated sequence of words as\n",
    "input and prints the words in a comma-separated sequence after sorting them\n",
    "alphabetically.\n",
    "Suppose the following input is supplied to the program:\n",
    "without,hello,bag,world\n",
    "Then, the output should be:\n",
    "bag,hello,without,world"
   ]
  },
  {
   "cell_type": "code",
   "execution_count": 10,
   "id": "9f3f524d-9ed4-439a-9401-a892fef4f782",
   "metadata": {},
   "outputs": [
    {
     "name": "stdin",
     "output_type": "stream",
     "text": [
      "Enter a comma seperated words wel,come,to,karachi\n"
     ]
    },
    {
     "name": "stdout",
     "output_type": "stream",
     "text": [
      "come,karachi,to,wel\n"
     ]
    }
   ],
   "source": [
    "def sort_words(input_string):\n",
    "\n",
    "    words = input_string.split(',')\n",
    "    words.sort()\n",
    "    sorted_words = ','.join(words)\n",
    "    return sorted_words\n",
    "\n",
    "# Example usage\n",
    "input_string =input(\"Enter a comma seperated words\")\n",
    "sorted_string = sort_words(input_string)\n",
    "print(sorted_string)\n"
   ]
  },
  {
   "cell_type": "markdown",
   "id": "8001f717-fd0e-40c4-9222-f1a01102f465",
   "metadata": {},
   "source": [
    "## Task4:`\n",
    "You need to write a program that takes sequence of lines as input and prints the\n",
    "lines after making all characters in the sentence capitalized.\n",
    "Suppose the following input is supplied to the program:\n",
    "Hello world\n",
    "Practice makes perfect\n",
    "Then, the output should be:\n",
    "\n",
    "HELLO WORLD\n",
    "PRACTICE MAKES PERFECT"
   ]
  },
  {
   "cell_type": "code",
   "execution_count": 12,
   "id": "76d8d415-01e6-4fe8-be38-e5839ee7c02d",
   "metadata": {},
   "outputs": [
    {
     "name": "stdout",
     "output_type": "stream",
     "text": [
      "Enter lines of text (press Enter on an empty line to finish):\n"
     ]
    },
    {
     "name": "stdin",
     "output_type": "stream",
     "text": [
      " sarwar\n",
      " yousaf\n",
      " \n"
     ]
    },
    {
     "name": "stdout",
     "output_type": "stream",
     "text": [
      "\n",
      "Capitalized Lines:\n",
      "SARWAR\n",
      "YOUSAF\n"
     ]
    }
   ],
   "source": [
    "def capitalize_lines():\n",
    "    lines = []\n",
    "    print(\"Enter lines of text (press Enter on an empty line to finish):\")\n",
    "    while True:\n",
    "        line = input()\n",
    "        if line:\n",
    "            lines.append(line.upper())\n",
    "        else:\n",
    "            break\n",
    "    \n",
    "    print(\"\\nCapitalized Lines:\")\n",
    "    for line in lines:\n",
    "        print(line)\n",
    "\n",
    "capitalize_lines()\n"
   ]
  },
  {
   "cell_type": "markdown",
   "id": "b67d8002-817a-46a1-9ddf-2ca5cf5c7675",
   "metadata": {},
   "source": [
    "## Task5:\n",
    "You need to write a function that counts the number of vowels in a given\n",
    "sentence as input from console.\n",
    "Suppose the following input is supplied to the program:\n",
    "Hello world\n",
    "Practice makes perfect\n",
    "Then, the output should be:\n",
    "a appeared 2 times\n",
    "e appeared 5 times\n",
    "i appeared 1 time\n",
    "o appeared 2 times\n",
    "u appeared 0 time\n",
    "PRACTICE MAKES PERFECT"
   ]
  },
  {
   "cell_type": "code",
   "execution_count": 13,
   "id": "91f7debc-470c-488c-900f-ef1c78b66097",
   "metadata": {},
   "outputs": [
    {
     "name": "stdin",
     "output_type": "stream",
     "text": [
      "Enter a sentence:  my nam is sarwar\n"
     ]
    },
    {
     "name": "stdout",
     "output_type": "stream",
     "text": [
      "a appeared 3 times\n",
      "e appeared 0 times\n",
      "i appeared 1 time\n",
      "o appeared 0 times\n",
      "u appeared 0 times\n",
      "MY NAM IS SARWAR\n"
     ]
    }
   ],
   "source": [
    "def count_vowels(sentence):\n",
    "    vowels = 'aeiou'\n",
    "    vowel_count = {vowel: 0 for vowel in vowels}\n",
    "\n",
    "    for char in sentence.lower():\n",
    "        if char in vowels:\n",
    "            vowel_count[char] += 1\n",
    "    return vowel_count\n",
    "input_sentence = input(\"Enter a sentence: \")\n",
    "vowel_counts = count_vowels(input_sentence)\n",
    "for vowel, count in vowel_counts.items():\n",
    "    print(f\"{vowel} appeared {count} time{'s' if count != 1 else ''}\")\n",
    "print(input_sentence.upper())\n"
   ]
  },
  {
   "cell_type": "markdown",
   "id": "0b287ca4-0a08-46c4-aef1-0f26b9d1d65e",
   "metadata": {},
   "source": [
    "## Task6:\n",
    "You need write a function that traces and makes a list of all such numbers\n",
    "from1000 to 3000 in which all the digits are even numbers."
   ]
  },
  {
   "cell_type": "code",
   "execution_count": 14,
   "id": "87b2abc4-1438-4c1e-b861-69e5b3e133dc",
   "metadata": {},
   "outputs": [
    {
     "name": "stdout",
     "output_type": "stream",
     "text": [
      "[2000, 2002, 2004, 2006, 2008, 2020, 2022, 2024, 2026, 2028, 2040, 2042, 2044, 2046, 2048, 2060, 2062, 2064, 2066, 2068, 2080, 2082, 2084, 2086, 2088, 2200, 2202, 2204, 2206, 2208, 2220, 2222, 2224, 2226, 2228, 2240, 2242, 2244, 2246, 2248, 2260, 2262, 2264, 2266, 2268, 2280, 2282, 2284, 2286, 2288, 2400, 2402, 2404, 2406, 2408, 2420, 2422, 2424, 2426, 2428, 2440, 2442, 2444, 2446, 2448, 2460, 2462, 2464, 2466, 2468, 2480, 2482, 2484, 2486, 2488, 2600, 2602, 2604, 2606, 2608, 2620, 2622, 2624, 2626, 2628, 2640, 2642, 2644, 2646, 2648, 2660, 2662, 2664, 2666, 2668, 2680, 2682, 2684, 2686, 2688, 2800, 2802, 2804, 2806, 2808, 2820, 2822, 2824, 2826, 2828, 2840, 2842, 2844, 2846, 2848, 2860, 2862, 2864, 2866, 2868, 2880, 2882, 2884, 2886, 2888]\n"
     ]
    }
   ],
   "source": [
    "def find_even_digit_numbers(start=1000, end=3000):\n",
    "    even_digit_numbers = []\n",
    "    \n",
    "    for num in range(start, end + 1):\n",
    "        num_str = str(num)\n",
    "        if all(int(digit) % 2 == 0 for digit in num_str):\n",
    "            even_digit_numbers.append(num)\n",
    "    \n",
    "    return even_digit_numbers\n",
    "even_digit_numbers = find_even_digit_numbers()\n",
    "print(even_digit_numbers)\n"
   ]
  },
  {
   "cell_type": "markdown",
   "id": "5424d174-0c74-4ac0-8337-e88f69c0811a",
   "metadata": {},
   "source": [
    "## Task7:\n",
    "You need to write a code which accepts a sequence of comma separated 4 digit\n",
    "binary numbers as its input and then check whether they are divisible by 5 or not.\n",
    "The numbers that are divisible by 5 are to be printed in a comma separated\n",
    "sequence.\n",
    "Example:\n",
    "0100,0011,1010,1001\n",
    "Then the output should be:\n",
    "1010"
   ]
  },
  {
   "cell_type": "code",
   "execution_count": 20,
   "id": "3103cca4-39ac-40be-b412-ec4935174c2b",
   "metadata": {},
   "outputs": [
    {
     "name": "stdout",
     "output_type": "stream",
     "text": [
      "1010\n"
     ]
    }
   ],
   "source": [
    "def check_divisible_by_5(binary_numbers):\n",
    "    binary_list = binary_numbers.split(',')\n",
    "    divisible_by_5 = [num for num in binary_list if int(num, 2) % 5 == 0]\n",
    "    result = ','.join(divisible_by_5)\n",
    "    return result\n",
    "input_sequence = \"0100,0011,1010,1001,1001,1000\"\n",
    "output_sequence = check_divisible_by_5(input_sequence)\n",
    "print(output_sequence)\n"
   ]
  },
  {
   "cell_type": "markdown",
   "id": "24cfb5d7-3157-4b92-8077-9764a147b538",
   "metadata": {},
   "source": [
    "## Task8:\n",
    "Write a program that accepts a sentence and calculate the number of letters and\n",
    "digits.\n",
    "Suppose the following input is supplied to the program:\n",
    "hello world! 123\n",
    "Then, the output should be:\n",
    "LETTERS 10\n",
    "DIGITS 3"
   ]
  },
  {
   "cell_type": "code",
   "execution_count": 23,
   "id": "e53aaebe-6b94-468c-8ac0-1fe2c3d772cf",
   "metadata": {},
   "outputs": [
    {
     "name": "stdin",
     "output_type": "stream",
     "text": [
      "Enter a sentence:  the price of car is 3000000\n"
     ]
    },
    {
     "name": "stdout",
     "output_type": "stream",
     "text": [
      "LETTERS 15\n",
      "DIGITS 7\n"
     ]
    }
   ],
   "source": [
    "def count_letters_digits(sentence):\n",
    "    letters_count = sum(char.isalpha() for char in sentence)\n",
    "    digits_count = sum(char.isdigit() for char in sentence)\n",
    "    return letters_count, digits_count\n",
    "input_sentence = input(\"Enter a sentence: \")\n",
    "letters, digits = count_letters_digits(input_sentence)\n",
    "\n",
    "print(f\"LETTERS {letters}\")\n",
    "print(f\"DIGITS {digits}\")\n"
   ]
  },
  {
   "cell_type": "code",
   "execution_count": null,
   "id": "8ae4a9c7-67d3-49ff-9bb7-6311468c9e28",
   "metadata": {},
   "outputs": [],
   "source": []
  }
 ],
 "metadata": {
  "kernelspec": {
   "display_name": "Python 3 (ipykernel)",
   "language": "python",
   "name": "python3"
  },
  "language_info": {
   "codemirror_mode": {
    "name": "ipython",
    "version": 3
   },
   "file_extension": ".py",
   "mimetype": "text/x-python",
   "name": "python",
   "nbconvert_exporter": "python",
   "pygments_lexer": "ipython3",
   "version": "3.12.7"
  }
 },
 "nbformat": 4,
 "nbformat_minor": 5
}
