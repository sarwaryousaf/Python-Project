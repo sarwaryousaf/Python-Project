{
 "cells": [
  {
   "cell_type": "markdown",
   "id": "5dfb8c2c-7ee7-493d-9549-92d3cacde6e0",
   "metadata": {},
   "source": [
    "## Saylani Mass IT \n",
    "### Name   : Muhammad Sarwar\n",
    "### Course : AI and DS\n",
    "### Days   : Tuesday and Thursday\n",
    "### ID     : AI - 333166\n",
    "             "
   ]
  },
  {
   "cell_type": "markdown",
   "id": "7f235404-8e63-41ea-8271-e2d6de8295f8",
   "metadata": {},
   "source": [
    "## Looping structure"
   ]
  },
  {
   "cell_type": "markdown",
   "id": "98ccb6ac-3a01-4911-b60a-ac9681049df5",
   "metadata": {},
   "source": [
    "1 write a python program to print the numbers from 1 to 10 using a for loop"
   ]
  },
  {
   "cell_type": "code",
   "execution_count": 3,
   "id": "0ab7449f-a3ae-4fb0-bf60-20730ef67da1",
   "metadata": {},
   "outputs": [
    {
     "name": "stdout",
     "output_type": "stream",
     "text": [
      "1\n",
      "2\n",
      "3\n",
      "4\n",
      "5\n",
      "6\n",
      "7\n",
      "8\n",
      "9\n",
      "10\n"
     ]
    }
   ],
   "source": [
    "for i in range(1,11):\n",
    "    print(i)"
   ]
  },
  {
   "cell_type": "markdown",
   "id": "3e83da34-29b5-458e-918e-4d66da4a0196",
   "metadata": {},
   "source": [
    "2 Write a Python program to print the numbers from 20 to 1 using a while loop"
   ]
  },
  {
   "cell_type": "code",
   "execution_count": 12,
   "id": "a8595e85-2b13-4151-93c8-cfe0231b85f3",
   "metadata": {},
   "outputs": [
    {
     "name": "stdout",
     "output_type": "stream",
     "text": [
      "the number is:20\n",
      "the number is:19\n",
      "the number is:18\n",
      "the number is:17\n",
      "the number is:16\n",
      "the number is:15\n",
      "the number is:14\n",
      "the number is:13\n",
      "the number is:12\n",
      "the number is:11\n",
      "the number is:10\n",
      "the number is:9\n",
      "the number is:8\n",
      "the number is:7\n",
      "the number is:6\n",
      "the number is:5\n",
      "the number is:4\n",
      "the number is:3\n",
      "the number is:2\n",
      "the number is:1\n"
     ]
    }
   ],
   "source": [
    "i=20\n",
    "while i>=1:\n",
    "    print(f\"the number is:{i}\")\n",
    "    i-=1"
   ]
  },
  {
   "cell_type": "markdown",
   "id": "e1839a18-a1eb-4d39-abaa-4cd9e13c7d03",
   "metadata": {},
   "source": [
    "3. Write a program to print even numbers from 1 to 10."
   ]
  },
  {
   "cell_type": "code",
   "execution_count": 13,
   "id": "6e6fd3d8-f8f9-4265-8c18-7e8bdeee7f0e",
   "metadata": {},
   "outputs": [
    {
     "name": "stdout",
     "output_type": "stream",
     "text": [
      "1 is an Odd Number\n",
      "2 is an Even Number\n",
      "3 is an Odd Number\n",
      "4 is an Even Number\n",
      "5 is an Odd Number\n",
      "6 is an Even Number\n",
      "7 is an Odd Number\n",
      "8 is an Even Number\n",
      "9 is an Odd Number\n",
      "10 is an Even Number\n"
     ]
    }
   ],
   "source": [
    "for i in range(1,11):\n",
    "    if i%2==0:\n",
    "        print(f\"{i} is an Even Number\")\n",
    "    else:\n",
    "        print(f\"{i} is an Odd Number\")\n",
    "    "
   ]
  },
  {
   "cell_type": "markdown",
   "id": "e8fc9d0b-af83-4fe6-a287-bd87136693eb",
   "metadata": {},
   "source": [
    "4. Write a program that prompts the user to enter a number n and prints all the\n",
    "numbers from 1 to n."
   ]
  },
  {
   "cell_type": "code",
   "execution_count": 14,
   "id": "5f371cff-ab33-49be-9dde-aa3a3734bb12",
   "metadata": {},
   "outputs": [
    {
     "name": "stdin",
     "output_type": "stream",
     "text": [
      "Enter a number 30\n"
     ]
    },
    {
     "name": "stdout",
     "output_type": "stream",
     "text": [
      "0\n",
      "1\n",
      "2\n",
      "3\n",
      "4\n",
      "5\n",
      "6\n",
      "7\n",
      "8\n",
      "9\n",
      "10\n",
      "11\n",
      "12\n",
      "13\n",
      "14\n",
      "15\n",
      "16\n",
      "17\n",
      "18\n",
      "19\n",
      "20\n",
      "21\n",
      "22\n",
      "23\n",
      "24\n",
      "25\n",
      "26\n",
      "27\n",
      "28\n",
      "29\n"
     ]
    }
   ],
   "source": [
    "n=int(input(\"Enter a number\"))\n",
    "for i in range(n):\n",
    "    print(i)\n",
    "    "
   ]
  },
  {
   "cell_type": "markdown",
   "id": "e748e9e2-5076-4f23-afe1-e0ce3a933ca0",
   "metadata": {},
   "source": [
    "5. Write a program that prompts the user to enter a number n, and then prints all the\n",
    "odd numbers between 1 and n."
   ]
  },
  {
   "cell_type": "code",
   "execution_count": 1,
   "id": "2f6c7f41-d044-4df3-a1d7-f046b7b0e89f",
   "metadata": {},
   "outputs": [
    {
     "name": "stdin",
     "output_type": "stream",
     "text": [
      "Enter a number 20\n"
     ]
    },
    {
     "name": "stdout",
     "output_type": "stream",
     "text": [
      "The 1 is an Odd number\n",
      "The 3 is an Odd number\n",
      "The 5 is an Odd number\n",
      "The 7 is an Odd number\n",
      "The 9 is an Odd number\n",
      "The 11 is an Odd number\n",
      "The 13 is an Odd number\n",
      "The 15 is an Odd number\n",
      "The 17 is an Odd number\n",
      "The 19 is an Odd number\n"
     ]
    }
   ],
   "source": [
    "n=int(input(\"Enter a number\"))\n",
    "for i in range(n):\n",
    "    if i%2==0:\n",
    "        pass\n",
    "    else:\n",
    "        print(f\"The {i} is an Odd number\")\n",
    "    "
   ]
  },
  {
   "cell_type": "markdown",
   "id": "f0df443f-94df-44f0-8622-25650597bf6f",
   "metadata": {},
   "source": [
    "6. Write a program that prints 'Happy Birthday!' five times on screen."
   ]
  },
  {
   "cell_type": "code",
   "execution_count": 2,
   "id": "b753f267-cf97-473f-8f35-5e1cb83f79bc",
   "metadata": {},
   "outputs": [
    {
     "name": "stdout",
     "output_type": "stream",
     "text": [
      "Happy Birthday\n",
      "Happy Birthday\n",
      "Happy Birthday\n",
      "Happy Birthday\n",
      "Happy Birthday\n"
     ]
    }
   ],
   "source": [
    "for i in range(5):\n",
    "    print(\"Happy Birthday\")"
   ]
  },
  {
   "cell_type": "markdown",
   "id": "4bb23993-61f8-4dc9-848a-d5be56f158da",
   "metadata": {},
   "source": [
    "7. Write a program that takes a number n as input from the user and generates the first\n",
    "n terms of the series formed by squaring the natural numbers.\n",
    "Sample output\n",
    "Enter a number: 6\n",
    "The first 6 terms of the series are:\n",
    "1 4 9 16 25 36"
   ]
  },
  {
   "cell_type": "code",
   "execution_count": 22,
   "id": "558b62d2-3fe1-41b0-9379-a02d857dab72",
   "metadata": {},
   "outputs": [
    {
     "name": "stdin",
     "output_type": "stream",
     "text": [
      "Enter a number 6\n"
     ]
    },
    {
     "name": "stdout",
     "output_type": "stream",
     "text": [
      "1 4 9 16 25 36 "
     ]
    }
   ],
   "source": [
    "n=int(input(\"Enter a number\"))\n",
    "for i in range(1,n+1):\n",
    "    print(i**2,end=\" \")"
   ]
  },
  {
   "cell_type": "markdown",
   "id": "b92ea64e-2882-415a-8d93-631aeb10d7ee",
   "metadata": {},
   "source": [
    "8. Write a program that prompts the user to input a number and prints its multiplication\n",
    "table."
   ]
  },
  {
   "cell_type": "code",
   "execution_count": 29,
   "id": "d40817e2-ca93-43b7-8205-9d234185bfc9",
   "metadata": {},
   "outputs": [
    {
     "name": "stdin",
     "output_type": "stream",
     "text": [
      "Enter a number 4\n",
      "Enter the length of table 12\n"
     ]
    },
    {
     "name": "stdout",
     "output_type": "stream",
     "text": [
      "1 X 12 = 4\n",
      "2 X 12 = 8\n",
      "3 X 12 = 12\n",
      "4 X 12 = 16\n",
      "5 X 12 = 20\n",
      "6 X 12 = 24\n",
      "7 X 12 = 28\n",
      "8 X 12 = 32\n",
      "9 X 12 = 36\n",
      "10 X 12 = 40\n",
      "11 X 12 = 44\n",
      "12 X 12 = 48\n"
     ]
    }
   ],
   "source": [
    "n=int(input(\"Enter a number\"))\n",
    "length_of_table=int(input(\"Enter the length of table\"))\n",
    "for i in range(1,length_of_table+1):\n",
    "    print(f\"{i} X {length_of_table} = {i*n}\")"
   ]
  },
  {
   "cell_type": "markdown",
   "id": "380dae0e-14be-485a-97b3-67b7924487b3",
   "metadata": {},
   "source": [
    "9. Write a Python program to print the first 8 terms of an arithmetic progression starting\n",
    "with 3 and having a common difference of 4.\n",
    "The program should output the following sequence:\n",
    "3 7 11 15 19 23 27 31"
   ]
  },
  {
   "cell_type": "code",
   "execution_count": 3,
   "id": "c549a7a0-97d3-4613-8f54-3383add33ec2",
   "metadata": {},
   "outputs": [
    {
     "name": "stdout",
     "output_type": "stream",
     "text": [
      "7 11 15 19 23 27 31 "
     ]
    }
   ],
   "source": [
    "num_terms=8\n",
    "first_term=3\n",
    "common_difference=4\n",
    "for i in range(1,num_terms):\n",
    "    term=first_term+i*common_difference\n",
    "    print(term,end=\" \")"
   ]
  },
  {
   "cell_type": "markdown",
   "id": "e4edf592-36ac-471e-8eab-0b1a44d05762",
   "metadata": {},
   "source": [
    "10. Write a Python program to print the first 6 terms of a geometric sequence starting\n",
    "with 2 and having a common ratio of 3.\n",
    "The program should output the following sequence:\n",
    "2 6 18 54 162 486"
   ]
  },
  {
   "cell_type": "code",
   "execution_count": 7,
   "id": "21c92b3e-15cb-48d5-8729-bb6270fbbc47",
   "metadata": {},
   "outputs": [
    {
     "name": "stdout",
     "output_type": "stream",
     "text": [
      "6 18 54 162 486 "
     ]
    }
   ],
   "source": [
    "num_terms=6\n",
    "start=2\n",
    "common_ratio=3\n",
    "for i in range(1,num_terms):\n",
    "    term=first_term*(common_ratio**i)\n",
    "    print(term,end=\" \")"
   ]
  },
  {
   "cell_type": "markdown",
   "id": "dbb9c30e-f78e-4a9d-871b-9be4ff66e391",
   "metadata": {},
   "source": [
    "11. Write a program that asks the user for a positive integer value. The program should\n",
    "calculate the sum of all the integers from 1 up to the number entered. For example, if\n",
    "the user enters 20, the loop will find the sum of 1, 2, 3, 4, ... 20."
   ]
  },
  {
   "cell_type": "code",
   "execution_count": 10,
   "id": "dac1ee07-dc35-4d61-881a-18c72e0c2f6f",
   "metadata": {},
   "outputs": [
    {
     "name": "stdin",
     "output_type": "stream",
     "text": [
      "Enter a number: 20\n"
     ]
    },
    {
     "name": "stdout",
     "output_type": "stream",
     "text": [
      "1\n",
      "3\n",
      "6\n",
      "10\n",
      "15\n",
      "21\n",
      "28\n",
      "36\n",
      "45\n",
      "55\n",
      "66\n",
      "78\n",
      "91\n",
      "105\n",
      "120\n",
      "136\n",
      "153\n",
      "171\n",
      "190\n"
     ]
    }
   ],
   "source": [
    "num=int(input(\"Enter a number:\"))\n",
    "sum=0\n",
    "for i in range(1,num):\n",
    "    sum+=i\n",
    "    print(sum)\n",
    "    "
   ]
  },
  {
   "cell_type": "markdown",
   "id": "f9ab4ab0-e14f-422e-bc1e-6ffa8454c728",
   "metadata": {},
   "source": [
    "12. write a program that takes a positive integer N as input and calculates the sum of\n",
    "the reciprocals of all numbers from 1 up to N. The program should display the final sum.\n",
    "\n",
    "Output of the program should be like:\n",
    "Enter a positive integer: 5\n",
    "The sum of reciprocals from 1 to 5 is: 2.28"
   ]
  },
  {
   "cell_type": "code",
   "execution_count": null,
   "id": "e67bbb79-2fd1-479c-a292-3fb65cec583f",
   "metadata": {},
   "outputs": [],
   "source": [
    "num=int(input(\"Enter a positive number\"))\n",
    "reciprocal_sum=0\n",
    "for i in range(1,num+1):\n",
    "    reciprocal_sum+=1/i\n",
    "    \n",
    "    "
   ]
  },
  {
   "cell_type": "markdown",
   "id": "4805d89f-beb2-4c6f-8334-c5207b5bb361",
   "metadata": {},
   "source": [
    "13. Write a program that prompts the user to enter a number and repeats this process 5\n",
    "times. The program should accumulate the numbers entered and then display the final\n",
    "running total.\n",
    "Sample Output:\n",
    "Enter a number: 10\n",
    "Enter a number: 15\n",
    "Enter a number: 35\n",
    "Enter a number: 40\n",
    "Enter a number: 50\n",
    "The final running total is: 150"
   ]
  },
  {
   "cell_type": "code",
   "execution_count": 16,
   "id": "e707cbb9-0d00-4db0-a306-32543ea9583b",
   "metadata": {},
   "outputs": [
    {
     "name": "stdin",
     "output_type": "stream",
     "text": [
      "Enter a Number: 10\n",
      "Enter a Number: 15\n",
      "Enter a Number: 35\n",
      "Enter a Number: 40\n",
      "Enter a Number: 50\n"
     ]
    },
    {
     "name": "stdout",
     "output_type": "stream",
     "text": [
      "The total final sum:150\n"
     ]
    }
   ],
   "source": [
    "sum=0\n",
    "for i in range(1,5+1):\n",
    "    num=int(input(\"Enter a Number:\"))\n",
    "    sum+=num\n",
    "print(f\"The total final sum:{sum}\")"
   ]
  },
  {
   "cell_type": "markdown",
   "id": "d9538b7c-cdb5-45fe-90bd-bcb6e2f2460c",
   "metadata": {},
   "source": [
    "14. Write a program that prompts the user to enter a positive integer and calculates its\n",
    "factorial. The factorial of a positive integer 'n' is denoted as 'n!' and is calculated by\n",
    "multiplying all the integers from 1 to 'n' together. For example, the factorial of 5\n",
    "(denoted as 5!) is calculated as 1 x 2 x 3 x 4 x 5.\n",
    "The program should display the factorial value if the input is a positive number, or\n",
    "display a message stating that the factorial does not exist for negative numbers.\n",
    "Additionally, for an input of zero, the program should output that the factorial of 0 is 1."
   ]
  },
  {
   "cell_type": "code",
   "execution_count": 17,
   "id": "e1ba2aa1-76e4-454c-96e5-ee2754b937a1",
   "metadata": {},
   "outputs": [
    {
     "name": "stdin",
     "output_type": "stream",
     "text": [
      "Enter a positive Integer: 3\n"
     ]
    },
    {
     "name": "stdout",
     "output_type": "stream",
     "text": [
      "The factorial of 3 is :6\n"
     ]
    }
   ],
   "source": [
    "n=int(input(\"Enter a positive Integer:\"))\n",
    "if n<0:\n",
    "    print(\"factorial of negative integer does not exist\")\n",
    "elif n==0:\n",
    "    factorial=0\n",
    "else:\n",
    "    factorial=1\n",
    "    for i in range(1,n+1):\n",
    "        factorial*=i\n",
    "    print(f\"The factorial of {n} is :{factorial}\")\n"
   ]
  },
  {
   "cell_type": "markdown",
   "id": "6b20f394-5c1c-45b4-a31a-7a66b6ce0749",
   "metadata": {},
   "source": [
    "15. Write a Python program that prompts the user to enter a base number and an\n",
    "exponent, and then calculates the power of the base to the exponent. The program\n",
    "should not use the exponentiation operator (**) or the math.pow() function. The\n",
    "program should handle both positive and negative exponents."
   ]
  },
  {
   "cell_type": "code",
   "execution_count": 18,
   "id": "94b3fb34-85f4-4f35-ad6b-29f8726371e2",
   "metadata": {},
   "outputs": [
    {
     "name": "stdin",
     "output_type": "stream",
     "text": [
      "Enter the base number:  2\n",
      "Enter the exponent:  4\n"
     ]
    },
    {
     "name": "stdout",
     "output_type": "stream",
     "text": [
      "The result of 2.0 raised to the power of 4 is: 16.0\n"
     ]
    }
   ],
   "source": [
    "base = float(input(\"Enter the base number: \"))\n",
    "exponent = int(input(\"Enter the exponent: \"))\n",
    "result = 1\n",
    "if exponent > 0:\n",
    "    for _ in range(exponent):\n",
    "        result *= base\n",
    "elif exponent < 0:\n",
    "    for _ in range(-exponent):\n",
    "        result *= 1 / base\n",
    "else:\n",
    "    result = 1\n",
    "print(f\"The result of {base} raised to the power of {exponent} is: {result}\")"
   ]
  },
  {
   "cell_type": "code",
   "execution_count": null,
   "id": "74e4ab57-429f-49f2-b993-a25371ec643c",
   "metadata": {},
   "outputs": [],
   "source": []
  }
 ],
 "metadata": {
  "kernelspec": {
   "display_name": "Python 3 (ipykernel)",
   "language": "python",
   "name": "python3"
  },
  "language_info": {
   "codemirror_mode": {
    "name": "ipython",
    "version": 3
   },
   "file_extension": ".py",
   "mimetype": "text/x-python",
   "name": "python",
   "nbconvert_exporter": "python",
   "pygments_lexer": "ipython3",
   "version": "3.12.7"
  }
 },
 "nbformat": 4,
 "nbformat_minor": 5
}
