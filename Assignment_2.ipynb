{
 "cells": [
  {
   "cell_type": "markdown",
   "id": "4f968637-2078-48c5-b52b-315d9e88acee",
   "metadata": {},
   "source": [
    "## Area of a Rectangle:"
   ]
  },
  {
   "cell_type": "code",
   "execution_count": 11,
   "id": "db4414bc-880a-4351-80a1-0c79633c4547",
   "metadata": {},
   "outputs": [
    {
     "name": "stdin",
     "output_type": "stream",
     "text": [
      "Please Enter Length 23\n",
      "Please Enter Width 30\n"
     ]
    },
    {
     "name": "stdout",
     "output_type": "stream",
     "text": [
      "The Area of Rectangle: 690\n"
     ]
    }
   ],
   "source": [
    "Area=0\n",
    "Length=int(input(\"Please Enter Length\"))\n",
    "Width=int(input(\"Please Enter Width\"))\n",
    "Area=Length*Width\n",
    "print(f\"The Area of Rectangle: {Area}\")"
   ]
  },
  {
   "cell_type": "markdown",
   "id": "14283461-48fe-4a11-bd51-34573814fae6",
   "metadata": {},
   "source": [
    "## Circumference of a Circle:"
   ]
  },
  {
   "cell_type": "code",
   "execution_count": 10,
   "id": "c5e59b16-606c-473e-b3e9-d0479294bcbb",
   "metadata": {},
   "outputs": [
    {
     "name": "stdin",
     "output_type": "stream",
     "text": [
      "Enter the radius 23\n"
     ]
    },
    {
     "name": "stdout",
     "output_type": "stream",
     "text": [
      "The Circumference of the Circle is : 144.44\n"
     ]
    }
   ],
   "source": [
    "Circumference=0\n",
    "pi=3.14\n",
    "radius=int(input(\"Enter the radius\"))\n",
    "Circumference=2*pi*radius\n",
    "print(f\"The Circumference of the Circle is : {Circumference}\")"
   ]
  },
  {
   "cell_type": "markdown",
   "id": "5003f24e-d527-4552-af37-e170cb0893a2",
   "metadata": {},
   "source": [
    "## Simple Interest: "
   ]
  },
  {
   "cell_type": "code",
   "execution_count": 12,
   "id": "504e5008-5fc9-47fe-885d-14b5880cf1de",
   "metadata": {},
   "outputs": [
    {
     "name": "stdin",
     "output_type": "stream",
     "text": [
      "Please Enter Principal 23\n",
      "Please Enter Rate 44\n",
      "Please Enter Time 3\n"
     ]
    },
    {
     "name": "stdout",
     "output_type": "stream",
     "text": [
      "The Simple_interest is: 3036\n"
     ]
    }
   ],
   "source": [
    "Simple_interest=0\n",
    "Principal=int(input(\"Please Enter Principal\"))\n",
    "Rate=int(input(\"Please Enter Rate\"))\n",
    "Time=int(input(\"Please Enter Time\"))\n",
    "Simple_interest=Principal*Rate*Time\n",
    "print(f\"The Simple_interest is: {Simple_interest}\")"
   ]
  },
  {
   "cell_type": "markdown",
   "id": "1b51ab02-2a79-4cbd-853d-36e22a08e0db",
   "metadata": {},
   "source": [
    "## Speed of an Object"
   ]
  },
  {
   "cell_type": "code",
   "execution_count": 13,
   "id": "7ce0d48d-fb26-43ce-ada5-e9fd28a9cca9",
   "metadata": {},
   "outputs": [
    {
     "name": "stdin",
     "output_type": "stream",
     "text": [
      "Enter the Distance 22\n",
      "Please Enter Time 43\n"
     ]
    },
    {
     "name": "stdout",
     "output_type": "stream",
     "text": [
      "The Speed of an Object is : 0.5116279069767442\n"
     ]
    }
   ],
   "source": [
    "Speed=0\n",
    "Distance=int(input(\"Enter the Distance\"))\n",
    "Time=int(input(\"Please Enter Time\"))\n",
    "Speed=Distance/Time\n",
    "print(f\"The Speed of an Object is : {Speed}\")\n",
    "            "
   ]
  },
  {
   "cell_type": "code",
   "execution_count": 14,
   "id": "92b290e4-e283-4f0c-8c85-5a3a91c22842",
   "metadata": {},
   "outputs": [
    {
     "name": "stdin",
     "output_type": "stream",
     "text": [
      "Enter the Weight 70\n",
      "Please Enter Height 2\n"
     ]
    },
    {
     "name": "stdout",
     "output_type": "stream",
     "text": [
      "The Body Mass Index is : 17.5\n"
     ]
    }
   ],
   "source": [
    "BMI=0\n",
    "Weight_in_KG=int(input(\"Enter the Weight\"))\n",
    "Height_in_Meter=int(input(\"Please Enter Height\"))\n",
    "BMI=Weight_in_KG/(Height_in_Meter)**2\n",
    "print(f\"The Body Mass Index is : {BMI}\")"
   ]
  },
  {
   "cell_type": "markdown",
   "id": "659dbbe8-8996-4ecc-8d53-8467224580de",
   "metadata": {},
   "source": [
    "## Force Using Newton's Second Law"
   ]
  },
  {
   "cell_type": "code",
   "execution_count": 15,
   "id": "df1f8f57-e9ab-4302-a2e7-90f17b3c6f40",
   "metadata": {},
   "outputs": [
    {
     "name": "stdin",
     "output_type": "stream",
     "text": [
      "Enter Mass in KG 23\n",
      "Enter An Acceleration in Meter per second 22\n"
     ]
    },
    {
     "name": "stdout",
     "output_type": "stream",
     "text": [
      "The Force ofa an Object is:506\n"
     ]
    }
   ],
   "source": [
    "Force=0\n",
    "Mass_in_Kg=int(input(\"Enter Mass in KG\"))\n",
    "Acceleration=int(input(\"Enter An Acceleration in Meter per second\"))\n",
    "Force=Mass_in_Kg*Acceleration\n",
    "print(f\"The Force ofa an Object is:{Force}\")"
   ]
  },
  {
   "cell_type": "markdown",
   "id": "a2a3017c-96e8-41f0-a46e-f77f36660639",
   "metadata": {},
   "source": [
    "## Compound Interest"
   ]
  },
  {
   "cell_type": "code",
   "execution_count": 28,
   "id": "0e0e855d-4729-4726-b3c7-3cd152eb9878",
   "metadata": {},
   "outputs": [
    {
     "name": "stdin",
     "output_type": "stream",
     "text": [
      "Enter Principal Amount 2\n",
      "Enter Annul interest rate 3\n",
      "Enter number of times interest is compounded per year 4\n",
      "Enter Time in years 5\n"
     ]
    },
    {
     "name": "stdout",
     "output_type": "stream",
     "text": [
      "The total amount5 Years is:10.30\n"
     ]
    }
   ],
   "source": [
    "A=0\n",
    "P=float(input(\"Enter Principal Amount\"))\n",
    "R=float(input(\"Enter Annul interest rate\"))\n",
    "N=int(input(\"Enter number of times interest is compounded per year\"))\n",
    "T=int(input(\"Enter Time in years\"))\n",
    "R=R/100\n",
    "A=P*(1+R/N)**N*T\n",
    "print(f\"The total amount after {T} Years is:{A:.2f}\")\n"
   ]
  },
  {
   "cell_type": "markdown",
   "id": "0beab98b-f544-4849-ad56-ae81f98db227",
   "metadata": {},
   "source": [
    "## Parameter of Triangle"
   ]
  },
  {
   "cell_type": "code",
   "execution_count": 5,
   "id": "8ece818e-da2b-46be-a391-1871444f8f7f",
   "metadata": {},
   "outputs": [
    {
     "name": "stdin",
     "output_type": "stream",
     "text": [
      "Enter lenght of a: 1\n",
      "Enter lenght of b: 2\n",
      "Enter lenght of c: 1\n"
     ]
    },
    {
     "name": "stdout",
     "output_type": "stream",
     "text": [
      "The Parameter of Triangle is:4\n"
     ]
    }
   ],
   "source": [
    "Parameter=0\n",
    "a=int(input(\"Enter lenght of a:\"))\n",
    "b=int(input(\"Enter lenght of b:\"))\n",
    "c=int(input(\"Enter lenght of c:\"))\n",
    "Parameter=a+b+c\n",
    "print(f\"The Parameter of Triangle is:{Parameter}\")"
   ]
  },
  {
   "cell_type": "markdown",
   "id": "172a19bf-fbf7-4880-9bab-6b3ec8d66ee9",
   "metadata": {},
   "source": [
    "## Volume of sphere"
   ]
  },
  {
   "cell_type": "code",
   "execution_count": 13,
   "id": "f8e3d4d4-a633-4f5d-8cac-4f20ed20857f",
   "metadata": {},
   "outputs": [
    {
     "name": "stdin",
     "output_type": "stream",
     "text": [
      "please Enter the radius of sphere 33\n"
     ]
    },
    {
     "name": "stdout",
     "output_type": "stream",
     "text": [
      "The Volume of sphere is:150456.240\n"
     ]
    }
   ],
   "source": [
    "volume=0\n",
    "radius=float(input(\"please Enter the radius of sphere\"))\n",
    "pi=3.14\n",
    "volume=4/3*pi*radius**3\n",
    "print(f\"The Volume of sphere is:{volume:.3f}\")"
   ]
  },
  {
   "cell_type": "markdown",
   "id": "522b11a1-0359-42bc-a20b-52677bc71621",
   "metadata": {},
   "source": [
    "## Kinetic Energy"
   ]
  },
  {
   "cell_type": "code",
   "execution_count": 19,
   "id": "508364be-dc8e-48db-8dc8-4ba07ad3635f",
   "metadata": {},
   "outputs": [
    {
     "name": "stdin",
     "output_type": "stream",
     "text": [
      "Please enter Mass in kg 22\n",
      "Please enterr velocity in meter per second 200\n"
     ]
    },
    {
     "name": "stdout",
     "output_type": "stream",
     "text": [
      "The Kinetic Energy of an Object is:440000.00\n"
     ]
    }
   ],
   "source": [
    "K_E=0\n",
    "Mass_in_Kg=float(input(\"Please enter Mass in kg\"))\n",
    "velocity=float(input(\"Please enterr velocity in meter per second\"))\n",
    "K_E=1/2*Mass_in_Kg*velocity**2\n",
    "print(f\"The Kinetic Energy of an Object is:{K_E:.2f}\")"
   ]
  },
  {
   "cell_type": "markdown",
   "id": "f27a459e-a7b6-4253-b585-16284195a98b",
   "metadata": {},
   "source": [
    "## Quadratic Equation"
   ]
  },
  {
   "cell_type": "code",
   "execution_count": 24,
   "id": "45f9332a-0801-4a8b-ac5f-b0e4387951b1",
   "metadata": {},
   "outputs": [
    {
     "name": "stdin",
     "output_type": "stream",
     "text": [
      "Enter Value of a 22\n",
      "Enter Value of b 34\n",
      "Enter Value of c 22\n"
     ]
    },
    {
     "name": "stdout",
     "output_type": "stream",
     "text": [
      "Root -6248.0\n",
      "Root 5500.0\n"
     ]
    }
   ],
   "source": [
    "import math\n",
    "X=0\n",
    "a=float(input(\"Enter Value of a\"))\n",
    "b=float(input(\"Enter Value of b\"))\n",
    "c=float(input(\"Enter Value of c\"))\n",
    "X1=(-b-1/2*(b**2-4*c))/2*a\n",
    "X2=(-b+1/2*(b**2-4*c))/2*a\n",
    "print(f\"Root1 {X1}\")\n",
    "print(f\"Root2 {X2}\")"
   ]
  },
  {
   "cell_type": "markdown",
   "id": "5e2a3ab8-62cf-460b-be42-3418a66fddd1",
   "metadata": {},
   "source": [
    "## Temperature conversion"
   ]
  },
  {
   "cell_type": "code",
   "execution_count": 33,
   "id": "fabd5c02-671e-48c8-9216-c21a3752364a",
   "metadata": {},
   "outputs": [
    {
     "name": "stdin",
     "output_type": "stream",
     "text": [
      "Please Enter Temperature in Celsius: 23\n"
     ]
    },
    {
     "name": "stdout",
     "output_type": "stream",
     "text": [
      "the Temperature in fahrenheit is:73.4f\n"
     ]
    }
   ],
   "source": [
    "F=0\n",
    "C=float(input(f\"Please Enter Temperature in Celsius:\"))\n",
    "F=9/5*C+32\n",
    "print(f\"the Temperature in fahrenheit is:{F}f\")"
   ]
  },
  {
   "cell_type": "markdown",
   "id": "6d5cedf2-eac9-4169-ae87-bb9b6c249502",
   "metadata": {},
   "source": [
    "## Gravitational Force:"
   ]
  },
  {
   "cell_type": "code",
   "execution_count": 7,
   "id": "c16030fe-c6f9-42f3-88b3-16503c69e059",
   "metadata": {},
   "outputs": [
    {
     "name": "stdin",
     "output_type": "stream",
     "text": [
      "Enter Value of m1 34\n",
      "Enter Value of m2 44\n",
      "Enter Value of r 55\n"
     ]
    },
    {
     "name": "stdout",
     "output_type": "stream",
     "text": [
      "gravitational force between two objects:3.300745221818182e-11\n"
     ]
    }
   ],
   "source": [
    "F=0\n",
    "m1=float(input(\"Enter Value of m1\"))\n",
    "m2=float(input(\"Enter Value of m2\"))\n",
    "r=float(input(\"Enter Value of r\"))\n",
    "G=0.000000000066743010\n",
    "F=G*(m1*m2)/r**2\n",
    "print(f\"gravitational force between two objects is:{F}\")"
   ]
  },
  {
   "cell_type": "markdown",
   "id": "af491fb4-0a23-445e-aecf-03dbd9fe4814",
   "metadata": {},
   "source": [
    "##  Volume of a Cylinder:"
   ]
  },
  {
   "cell_type": "code",
   "execution_count": 8,
   "id": "97647a46-e422-4ef2-8c13-987768933a9f",
   "metadata": {},
   "outputs": [
    {
     "name": "stdin",
     "output_type": "stream",
     "text": [
      "Enter the height of Cylinder: 23\n",
      "Enter the radius of Cylinder: 22\n"
     ]
    },
    {
     "name": "stdout",
     "output_type": "stream",
     "text": [
      "The Volume of the cylinder is :34954.48\n"
     ]
    }
   ],
   "source": [
    "volume=0\n",
    "h=float(input(\"Enter the height of Cylinder:\"))\n",
    "r=float(input(\"Enter the radius of Cylinder:\"))\n",
    "pi=3.14\n",
    "volume=pi*r**2*h\n",
    "print(f\"The Volume of the cylinder is :{volume}\")"
   ]
  },
  {
   "cell_type": "markdown",
   "id": "a7d9f038-5f5a-47b1-8b06-45731144a785",
   "metadata": {},
   "source": [
    "## Pressure"
   ]
  },
  {
   "cell_type": "code",
   "execution_count": 2,
   "id": "f253a6f7-922e-467b-9d99-d9bcb291663c",
   "metadata": {},
   "outputs": [
    {
     "name": "stdin",
     "output_type": "stream",
     "text": [
      "Enter a Force 23\n",
      "Enter the area of Surface 55\n"
     ]
    },
    {
     "name": "stdout",
     "output_type": "stream",
     "text": [
      "the pressure exerted by a force on a surface is:0.41818181818181815\n"
     ]
    }
   ],
   "source": [
    "P=0\n",
    "F=float(input(\"Enter a Force\"))\n",
    "A=float(input(\"Enter the area of Surface\"))\n",
    "P=F/A\n",
    "print(f\"the pressure exerted by a force on a surface is:{P}\")"
   ]
  },
  {
   "cell_type": "markdown",
   "id": "a862b506-ec46-443b-ba03-44b8bd565a3c",
   "metadata": {},
   "source": [
    "## Electric Power:"
   ]
  },
  {
   "cell_type": "code",
   "execution_count": 3,
   "id": "3e5f1fab-cc6c-403f-96fa-940e32cd48d8",
   "metadata": {},
   "outputs": [
    {
     "name": "stdin",
     "output_type": "stream",
     "text": [
      " the Voltage 23\n",
      " Current 33\n"
     ]
    },
    {
     "name": "stdout",
     "output_type": "stream",
     "text": [
      "he electric power consumed is :0.696969696969697\n"
     ]
    }
   ],
   "source": [
    "Electric_Power=0\n",
    "V=float(input(\" the Voltage\"))\n",
    "I=float(input(\" Current\"))\n",
    "Electric_Power=V/I\n",
    "print(f\"The electric power consumed is :{Electric_Power}\")"
   ]
  },
  {
   "cell_type": "markdown",
   "id": "f8015a52-0b69-426c-a93b-a6214ac018ce",
   "metadata": {},
   "source": [
    "## Perimeter of a Circle (Circumference): \n"
   ]
  },
  {
   "cell_type": "code",
   "execution_count": 6,
   "id": "f1b4b06a-31f0-478d-a17c-26b089c3ebf4",
   "metadata": {},
   "outputs": [
    {
     "name": "stdin",
     "output_type": "stream",
     "text": [
      "Enter the radius of circle:{r} 23\n"
     ]
    },
    {
     "name": "stdout",
     "output_type": "stream",
     "text": [
      "the perimeter (circumference) of a circle is :144.44\n"
     ]
    }
   ],
   "source": [
    "Perimeter=0\n",
    "pi=3.14\n",
    "r=float(input(\"Enter the radius of circle:\"))\n",
    "Perimeter=2*pi*r\n",
    "print(f\"the perimeter (circumference) of a circle is :{Perimeter}\")"
   ]
  },
  {
   "cell_type": "markdown",
   "id": "1d360014-fc15-4655-8d61-2630f575a83f",
   "metadata": {},
   "source": [
    "## Future Value in Savings:\n",
    "\n"
   ]
  },
  {
   "cell_type": "code",
   "execution_count": 10,
   "id": "f0c9a287-a81b-404a-95d1-7dbc5a856306",
   "metadata": {},
   "outputs": [
    {
     "name": "stdin",
     "output_type": "stream",
     "text": [
      "Enter the present value 33\n",
      "annual interest rate 22\n",
      "Enter time in year 5\n"
     ]
    },
    {
     "name": "stdout",
     "output_type": "stream",
     "text": [
      "the future value of an investment is :89.19\n"
     ]
    }
   ],
   "source": [
    "FV=0\n",
    "PV=float(input(\"Enter the present value\"))\n",
    "pi=3.14\n",
    "r=float(input(\"annual interest rate\"))\n",
    "r=r/100\n",
    "t=float(input(\"Enter time in year\"))\n",
    "FV=PV*(1+r)**t\n",
    "print(f\"the future value of an investment is :{FV:.2f}\")"
   ]
  },
  {
   "cell_type": "markdown",
   "id": "7276661a-0e99-4eae-b50e-ca451003afa6",
   "metadata": {},
   "source": [
    "## Work Done by a Force:"
   ]
  },
  {
   "cell_type": "code",
   "execution_count": 2,
   "id": "89459693-d451-4287-8f08-5d314347ee48",
   "metadata": {},
   "outputs": [
    {
     "name": "stdin",
     "output_type": "stream",
     "text": [
      "Enter the force in Newtons: 34\n",
      "Enter the distance in meters: 45\n",
      "Enter the angle between force and direction of movement (in degrees): 22\n"
     ]
    },
    {
     "name": "stdout",
     "output_type": "stream",
     "text": [
      "The work done by the force is: 1418.59 Joules\n"
     ]
    }
   ],
   "source": [
    "import math\n",
    "f=float(input(\"Enter the force in Newtons:\"))\n",
    "d=float(input(\"Enter the distance in meters:\"))\n",
    "Theta=float(input(\"Enter the angle between force and direction of movement (in degrees):\"))\n",
    "Theta_radian=math.radians(Theta)\n",
    "Work_done=f*d*math.cos(Theta_radian)\n",
    "print(f\"The work done by the force is: {Work_done:.2f} Joules\")"
   ]
  },
  {
   "cell_type": "markdown",
   "id": "58fd9903-51cb-47ac-beba-4a52e23a8646",
   "metadata": {},
   "source": [
    "## Heat Transfer:\n"
   ]
  },
  {
   "cell_type": "code",
   "execution_count": 3,
   "id": "7cabf6ec-832e-48dd-a2e2-0d2198ea9e91",
   "metadata": {},
   "outputs": [
    {
     "name": "stdin",
     "output_type": "stream",
     "text": [
      "Enter the mass (in kg):  23\n",
      "Enter the specific heat capacity (in J/kg°C):  4\n",
      "Enter the initial temperature (in °C):  3\n",
      "Enter the final temperature (in °C):  6\n"
     ]
    },
    {
     "name": "stdout",
     "output_type": "stream",
     "text": [
      "The amount of heat transferred is: 276.00 Joules\n"
     ]
    }
   ],
   "source": [
    "mass = float(input(\"Enter the mass (in kg): \"))\n",
    "specific_heat_capacity = float(input(\"Enter the specific heat capacity (in J/kg°C): \"))\n",
    "initial_temperature = float(input(\"Enter the initial temperature (in °C): \"))\n",
    "final_temperature = float(input(\"Enter the final temperature (in °C): \"))\n",
    "delta_T = final_temperature - initial_temperature\n",
    "heat_transfer = mass * specific_heat_capacity * delta_T\n",
    "print(f\"The amount of heat transferred is: {heat_transfer:.2f} Joules\")\n"
   ]
  },
  {
   "cell_type": "code",
   "execution_count": null,
   "id": "a0fe78ae-c88e-4ddd-8e36-1b5c5b42f0a7",
   "metadata": {},
   "outputs": [],
   "source": []
  }
 ],
 "metadata": {
  "kernelspec": {
   "display_name": "Python 3 (ipykernel)",
   "language": "python",
   "name": "python3"
  },
  "language_info": {
   "codemirror_mode": {
    "name": "ipython",
    "version": 3
   },
   "file_extension": ".py",
   "mimetype": "text/x-python",
   "name": "python",
   "nbconvert_exporter": "python",
   "pygments_lexer": "ipython3",
   "version": "3.12.7"
  }
 },
 "nbformat": 4,
 "nbformat_minor": 5
}
