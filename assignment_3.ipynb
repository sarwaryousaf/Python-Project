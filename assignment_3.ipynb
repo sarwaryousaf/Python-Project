{
 "cells": [
  {
   "cell_type": "markdown",
   "id": "ca543535-a984-4d8c-b493-d49e5ab94606",
   "metadata": {},
   "source": [
    "### Saylani Mass IT \n",
    "### Name   : Muhammad Sarwar\n",
    "### Course : AI and DS\n",
    "### Days   : Tuesday and Thursday\n",
    "### ID     : AI - 333166\n",
    "             "
   ]
  },
  {
   "cell_type": "code",
   "execution_count": 3,
   "id": "21b46553-7620-48b0-8ad1-35652ee638d6",
   "metadata": {},
   "outputs": [
    {
     "name": "stdin",
     "output_type": "stream",
     "text": [
      "Enter the total purchase amount : $  700\n"
     ]
    },
    {
     "name": "stdout",
     "output_type": "stream",
     "text": [
      "Discount:70.0$\n",
      "Purchase Amount After Discount:630.0$\n"
     ]
    }
   ],
   "source": [
    "Purchase_Amount=float(input(\"Enter the total purchase amount : $ \"))\n",
    "\n",
    "if Purchase_Amount>100:\n",
    "    discount=Purchase_Amount*0.10\n",
    "    print(f\"Discount:{discount}$\")\n",
    "    print(f\"Purchase Amount After Discount:{Purchase_Amount- discount}$\")\n",
    "else:\n",
    "    print(f\"The total Purchase Amount :{Purchase_Amount}$\")"
   ]
  },
  {
   "cell_type": "code",
   "execution_count": 10,
   "id": "a0081662-809a-4adf-9be5-7ecaf8522b75",
   "metadata": {},
   "outputs": [
    {
     "name": "stdin",
     "output_type": "stream",
     "text": [
      "what you want? apple\n",
      "How Much you want 6\n"
     ]
    },
    {
     "name": "stdout",
     "output_type": "stream",
     "text": [
      "the discount price  of an items is:180.0\n",
      "the price after discount is:1020.0\n"
     ]
    }
   ],
   "source": [
    "fruits={\"apple\":200,\"banana\":120,\"orange\":180,\"mango\":250,\"cherry\":400}\n",
    "items=input(\"what you want?\")\n",
    "if items in fruits:\n",
    "    quantity=int(input(\"How Much you want\"))\n",
    "    total_Amount=quantity*fruits[items]\n",
    "    if quantity>=5:\n",
    "        discount=total_Amount*0.15\n",
    "        print(f\"the discount price  of an items is:{discount}\")\n",
    "        print(f\"the price after discount is:{total_Amount-discount}\")\n",
    "    else:\n",
    "        print(f\"the price  of an items is:{total_Amount}\")\n",
    "else:\n",
    "    print(\"thank you for visiting\")"
   ]
  },
  {
   "cell_type": "code",
   "execution_count": 6,
   "id": "e249de32-237f-4945-976e-fc81ea02c48f",
   "metadata": {},
   "outputs": [],
   "source": []
  },
  {
   "cell_type": "code",
   "execution_count": 17,
   "id": "46b6b31b-0734-46cc-b81f-78bfca50f88d",
   "metadata": {},
   "outputs": [
    {
     "name": "stdout",
     "output_type": "stream",
     "text": [
      "The member discount 1000.0\n",
      "The total price after member discount 4000.0\n"
     ]
    }
   ],
   "source": [
    "is_member=True\n",
    "total_Amount=5000\n",
    "if is_member:\n",
    "    discount=total_Amount*0.20;\n",
    "    print(f\"The member discount {discount}\")\n",
    "    print(f\"The total price after member discount {total_Amount-discount}\") \n",
    "else:\n",
    "    discount=total_Amount*0.05;\n",
    "    print(f\"The total price after discount {total_Amount-discount}\")\n",
    "    print(f\"The total price {total_Amount}\")\n",
    "    "
   ]
  },
  {
   "cell_type": "code",
   "execution_count": 18,
   "id": "fef6958c-4a3d-4d62-8a76-1715a9105bad",
   "metadata": {},
   "outputs": [
    {
     "name": "stdout",
     "output_type": "stream",
     "text": [
      "The member discount 2500.0\n",
      "The total price after member discount 7500.0\n"
     ]
    }
   ],
   "source": [
    "Is_holyday=True\n",
    "totalAmount=10000\n",
    "if Is_holyday:\n",
    "    discount=totalAmount*0.25\n",
    "    print(f\"The member discount {discount}\")\n",
    "    print(f\"The total price after member discount {totalAmount-discount}\") \n",
    "else:\n",
    "    discount=total_Amount*0.10;\n",
    "    print(f\"The total price after discount {totalAmount-discount}\")\n",
    "    print(f\"The total price {totalAmount}\")\n",
    "    "
   ]
  },
  {
   "cell_type": "markdown",
   "id": "93fe827d-c0ad-4fe2-9ea7-3c808fe81967",
   "metadata": {},
   "source": [
    "## Buy-One-Get-One-Free"
   ]
  },
  {
   "cell_type": "code",
   "execution_count": 24,
   "id": "865ce828-8bea-4c6c-b502-4033b3f30894",
   "metadata": {},
   "outputs": [
    {
     "name": "stdin",
     "output_type": "stream",
     "text": [
      "enter the number: 8\n"
     ]
    },
    {
     "name": "stdout",
     "output_type": "stream",
     "text": [
      "The amount have to pay after discount :4\n"
     ]
    }
   ],
   "source": [
    "total=int(input(\"enter the number:\"))\n",
    "if total%2==0:\n",
    "    get_one_free=total//2\n",
    "    print(f\"The amount have to pay after discount :{get_one_free}\")\n",
    "else:\n",
    "    print(f\"The amount have to pay :{total}\")"
   ]
  },
  {
   "cell_type": "markdown",
   "id": "aab05ca4-b7fe-40a0-a036-3f6e5f71a558",
   "metadata": {},
   "source": [
    "# B- Tax Calculations"
   ]
  },
  {
   "cell_type": "markdown",
   "id": "987a042f-7d85-46f7-8a6c-b5774d69f412",
   "metadata": {},
   "source": [
    "## 6. Sales Tax"
   ]
  },
  {
   "cell_type": "code",
   "execution_count": 27,
   "id": "3dc88190-314e-4b4f-b897-2e424bbff749",
   "metadata": {},
   "outputs": [
    {
     "name": "stdin",
     "output_type": "stream",
     "text": [
      "Enter the Price of an item: $ 700\n"
     ]
    },
    {
     "name": "stdout",
     "output_type": "stream",
     "text": [
      "The Price of luxury tax :105.0\n",
      "The Price of item after luxury tax :595.0$\n"
     ]
    }
   ],
   "source": [
    "item_price=int(input(\"Enter the Price of an item: $\"))\n",
    "if item_price>500:\n",
    "    sale_tax=item_price*0.15\n",
    "    print(f\"The Price of luxury tax :{sale_tax}\")\n",
    "    print(f\"The Price of item after luxury tax :{item_price-sale_tax}$\")\n",
    "else:\n",
    "    sale_tax=item_price*0.08\n",
    "    print(f\"The Price of standard Tax :{sale_tax}$\")\n",
    "    print(f\"The Price of item after standard Tax :{item_price-sale_tax}$\")"
   ]
  },
  {
   "cell_type": "markdown",
   "id": "b8f670f5-d22f-4254-9d66-2dd7621eef74",
   "metadata": {},
   "source": [
    "## 7. Income Tax"
   ]
  },
  {
   "cell_type": "code",
   "execution_count": 32,
   "id": "1d0ac2ed-c385-4470-bd5a-6a69395c47c7",
   "metadata": {},
   "outputs": [
    {
     "name": "stdin",
     "output_type": "stream",
     "text": [
      "Enter the Price of an item: $ 30000\n"
     ]
    },
    {
     "name": "stdout",
     "output_type": "stream",
     "text": [
      "The Price of standard Tax :3000.0$\n",
      "The Price of item after standard Tax :27000.0$\n"
     ]
    }
   ],
   "source": [
    "Annual_income=int(input(\"Enter the Price of an item: $\"))\n",
    "if Annual_income>50000:\n",
    "    income_tax=Annual_income*0.20\n",
    "    print(f\"The Price of income tax :{income_tax}\")\n",
    "    print(f\"The Price of item after luxury tax :{Annual_income-income_tax}$\")\n",
    "else:\n",
    "    income_tax=Annual_income*0.10\n",
    "    print(f\"The Price of standard Tax :{income_tax}$\")\n",
    "    print(f\"The Price of item after standard Tax :{Annual_income-income_tax}$\")"
   ]
  },
  {
   "cell_type": "markdown",
   "id": "75756594-795d-4803-83c3-c2c59367fd73",
   "metadata": {},
   "source": [
    "## 8. Tax Bracket"
   ]
  },
  {
   "cell_type": "code",
   "execution_count": 38,
   "id": "86c0beae-f596-4a60-9a95-c4d54950dee3",
   "metadata": {},
   "outputs": [
    {
     "name": "stdin",
     "output_type": "stream",
     "text": [
      "Enter the Annual Income 50000\n"
     ]
    },
    {
     "name": "stdout",
     "output_type": "stream",
     "text": [
      "The Person Tax bracket is :Medium Tax\n"
     ]
    }
   ],
   "source": [
    "Annual_income=int(input(\"Enter the Annual Income\"))\n",
    "if Annual_income<30000:\n",
    "   tax_bracket =\"Low Tax\"\n",
    "elif 30000<=Annual_income<100000:\n",
    "   tax_bracket =\"Medium Tax\"\n",
    "else:\n",
    "    tax_bracket =\"High Tax\"\n",
    "print(f\"The Person Tax bracket is :{tax_bracket}\")"
   ]
  },
  {
   "cell_type": "markdown",
   "id": "0f47e3b3-1641-4f79-8c91-7839c5f933dd",
   "metadata": {},
   "source": [
    "## 9. VAT Calculation"
   ]
  },
  {
   "cell_type": "code",
   "execution_count": 9,
   "id": "4a8326a4-3281-4957-a4dd-7e979b5e4669",
   "metadata": {},
   "outputs": [
    {
     "name": "stdin",
     "output_type": "stream",
     "text": [
      "Enter product name: soap\n"
     ]
    },
    {
     "name": "stdout",
     "output_type": "stream",
     "text": [
      "VAT is 5%\n"
     ]
    }
   ],
   "source": [
    "Is_Essential={\"face wash\":400,\"soap\":200,\"tooth brush\":150}\n",
    "item=input(\"Enter product name:\")\n",
    "\n",
    "if item in Is_Essential:\n",
    "    print(f\"\")\n",
    "else:\n",
    "    print(f\"10%\")\n"
   ]
  },
  {
   "cell_type": "markdown",
   "id": "1d91f952-e36d-4f6d-9d37-d4a58b7c7a78",
   "metadata": {},
   "source": [
    "## 10. Tax-Free Day"
   ]
  },
  {
   "cell_type": "code",
   "execution_count": 11,
   "id": "f5090567-6109-494d-94d9-a81d087b60c8",
   "metadata": {},
   "outputs": [
    {
     "name": "stdout",
     "output_type": "stream",
     "text": [
      "The final price is:214.0\n"
     ]
    }
   ],
   "source": [
    "price=200\n",
    "tax_free_day=False\n",
    "if tax_free_day:\n",
    "    final_price=price\n",
    "else:\n",
    "    final_price=price*1.07\n",
    "    \n",
    "print(f\"The final price is:{final_price}\")"
   ]
  },
  {
   "cell_type": "markdown",
   "id": "c284913c-b600-4314-85a2-876d676ba5fc",
   "metadata": {},
   "source": [
    "# C- Shopping and Billing"
   ]
  },
  {
   "cell_type": "markdown",
   "id": "712c1b7b-09e6-466f-919a-aff56c360163",
   "metadata": {},
   "source": [
    "## 11. Free Shipping"
   ]
  },
  {
   "cell_type": "code",
   "execution_count": 24,
   "id": "95cbb0ea-c20a-4f7a-bf1c-e33d4457b448",
   "metadata": {},
   "outputs": [
    {
     "name": "stdin",
     "output_type": "stream",
     "text": [
      "Enter the Total Purchase amount:$ 3000\n"
     ]
    },
    {
     "name": "stdout",
     "output_type": "stream",
     "text": [
      "The total amount:3000$\n"
     ]
    }
   ],
   "source": [
    "Purchase_amount=int(input(\"Enter the Total Purchase amount:$\"))\n",
    "if Purchase_amount>=50:\n",
    "    shipping_cost=0\n",
    "    \n",
    "else:\n",
    "    shipping_cost=5\n",
    "total_price=Purchase_amount+shipping_cost\n",
    "print(f\"The total amount:{total_price}$\")"
   ]
  },
  {
   "cell_type": "markdown",
   "id": "b1977fa9-4b38-4c55-bc3a-4da5b978065f",
   "metadata": {},
   "source": [
    "# 12. Discount Code"
   ]
  },
  {
   "cell_type": "code",
   "execution_count": 23,
   "id": "ad699c89-3fc5-4220-b6fe-31cce0e7772a",
   "metadata": {},
   "outputs": [
    {
     "name": "stdin",
     "output_type": "stream",
     "text": [
      "Enter the purchase Amount 4000\n",
      "Enter Discount Code s\n"
     ]
    },
    {
     "name": "stdout",
     "output_type": "stream",
     "text": [
      "The total amount is:4000\n"
     ]
    }
   ],
   "source": [
    "total_amount=int(input(\"Enter the purchase Amount\"))\n",
    "Discount_Code=input(\"Enter Discount Code\")\n",
    "if Discount_Code==\"DISCOUNT10\":\n",
    "    Discount_Amount=total_amount*0.10\n",
    "    print(f\"The amount after Discount :{total_amount-Discount_Amount}\")\n",
    "else:\n",
    "    total_amount=total_amount\n",
    "print(f\"The total amount is:{total_amount}\")"
   ]
  },
  {
   "cell_type": "markdown",
   "id": "4150f910-1cf1-4db7-b29c-ae408e4e6547",
   "metadata": {},
   "source": [
    "## 13. Tiered Discounts\n",
    "Apply discounts based on the total price:\n",
    " $0–$50: No discount.\n",
    " $50–$100: 10% discount.\n",
    " Over $100: 20% discount."
   ]
  },
  {
   "cell_type": "code",
   "execution_count": 33,
   "id": "973d5252-1993-4544-927d-5d6a0480bf6c",
   "metadata": {},
   "outputs": [
    {
     "name": "stdin",
     "output_type": "stream",
     "text": [
      "Enter the Total Price 3000\n"
     ]
    },
    {
     "name": "stdout",
     "output_type": "stream",
     "text": [
      "The Original Price:$3000.00\n",
      "The Discount Price:$600.00\n",
      "The Final Price after Discount:$2400.00\n"
     ]
    }
   ],
   "source": [
    "total_price=int(input(\"Enter the Total Price\"))\n",
    "if 0<=total_price<=50:\n",
    "    discount_rate=0\n",
    "elif 50<total_price<=100:\n",
    "    discount_rate=0.10\n",
    "else:\n",
    "    discount_rate=0.20\n",
    "discount_amount=total_price*discount_rate\n",
    "final_amount=total_price-discount_amount\n",
    "print(f\"The Original Price:${total_price:.2f}\")\n",
    "print(f\"The Discount Price:${discount_amount:.2f}\")\n",
    "print(f\"The Final Price after Discount:${final_amount:.2f}\")"
   ]
  },
  {
   "cell_type": "markdown",
   "id": "724adac5-185b-4182-ab56-5b87a0babe93",
   "metadata": {},
   "source": [
    "## 14. Minimum Purchase Requirement"
   ]
  },
  {
   "cell_type": "code",
   "execution_count": 38,
   "id": "5a24b672-c9b2-4cae-abf2-94c2a9b3696e",
   "metadata": {},
   "outputs": [
    {
     "name": "stdin",
     "output_type": "stream",
     "text": [
      "Enter the purchase amount 50\n"
     ]
    },
    {
     "name": "stdout",
     "output_type": "stream",
     "text": [
      "The total purchase amount:50$\n"
     ]
    }
   ],
   "source": [
    "total_amount=int(input(\"Enter the purchase amount\"))\n",
    "if total_amount<20:\n",
    "    print(\"Minimum purchase of $20 isrequired.\")\n",
    "else:\n",
    "    print(f\"The total purchase amount:{total_amount}$\")"
   ]
  },
  {
   "cell_type": "markdown",
   "id": "553c01bc-8ce6-44cc-817f-7d4489acc4c7",
   "metadata": {},
   "source": [
    "## 15. Loyalty Points"
   ]
  },
  {
   "cell_type": "code",
   "execution_count": 49,
   "id": "976794b3-c542-4bfc-b8d2-472bb23d3cf5",
   "metadata": {},
   "outputs": [
    {
     "name": "stdin",
     "output_type": "stream",
     "text": [
      "Enter the purchase Amount 3\n"
     ]
    },
    {
     "name": "stdout",
     "output_type": "stream",
     "text": [
      "The customer earned 3 loyalty points\n"
     ]
    }
   ],
   "source": [
    "purchase_amount=int(input(\"Enter the purchase Amount\"))\n",
    "Standard_Point=1\n",
    "is_loyal=False\n",
    "if is_loyal:\n",
    "    loyalty_points=purchase_amount*(Standard_Point*2)\n",
    "else:\n",
    "    loyalty_points=purchase_amount*Standard_Point\n",
    "print(f\"The customer earned {loyalty_points} loyalty points\")"
   ]
  },
  {
   "cell_type": "markdown",
   "id": "605bc3f5-d4bf-44e6-950a-ec20219af4c9",
   "metadata": {},
   "source": [
    "# D- Travel and Tickets"
   ]
  },
  {
   "cell_type": "markdown",
   "id": "e6fc8fc4-d53f-4a49-a524-cb42c1d60b92",
   "metadata": {},
   "source": [
    "## 16. Travel Discount"
   ]
  },
  {
   "cell_type": "code",
   "execution_count": 65,
   "id": "2dd6a629-955f-4898-9d96-fade1efbf9c8",
   "metadata": {},
   "outputs": [
    {
     "name": "stdin",
     "output_type": "stream",
     "text": [
      "Enter the Price of ticket 380\n",
      "Enter the distance that they want to travel 2000\n"
     ]
    },
    {
     "name": "stdout",
     "output_type": "stream",
     "text": [
      "the discount price:76.0\n",
      "The total Expense of travel is 304.0\n"
     ]
    }
   ],
   "source": [
    "ticket_price=int(input(\"Enter the Price of ticket\"))\n",
    "distance=int(input(\"Enter the distance that they want to travel\"))\n",
    "if distance>=500:\n",
    "    discount=0.20\n",
    "    final_price=ticket_price*(1-discount)\n",
    "    \n",
    "    print(f\"the discount price:{discount*ticket_price}\")\n",
    "    print(f\"The total Expense of travel is {final_price}\")\n",
    "else:\n",
    "    final_price=ticket_price\n",
    "\n",
    "    print(f\"The total Expense of travel is {final_price}\")\n",
    "    "
   ]
  },
  {
   "cell_type": "markdown",
   "id": "e2c15fe1-511f-4143-a6d0-76914f2f6af4",
   "metadata": {},
   "source": [
    "## 17. Child or Senior Discount"
   ]
  },
  {
   "cell_type": "code",
   "execution_count": 85,
   "id": "de7d5be4-7ae4-4d4d-bd92-f09f6bb8ecd5",
   "metadata": {},
   "outputs": [
    {
     "name": "stdin",
     "output_type": "stream",
     "text": [
      "Enter the age of Customer : 80\n"
     ]
    },
    {
     "name": "stdout",
     "output_type": "stream",
     "text": [
      "The Discount Price is:150.0\n",
      "The final ticket price is:850.0\n"
     ]
    }
   ],
   "source": [
    "passenger_age=int(input(\"Enter the age of Customer :\"))\n",
    "Ticket_Price=1000\n",
    "if passenger_age<12 or passenger_age>60:\n",
    "    discount=0.15\n",
    "    final_price=Ticket_Price*(1-discount)\n",
    "    print(f\"The Discount Price is:{Ticket_Price*discount}\")\n",
    "else:\n",
    "    final_price=Ticket_Price\n",
    "print(f\"The Final Ticket Price is:{final_price}\")\n",
    "    "
   ]
  },
  {
   "cell_type": "markdown",
   "id": "f8f8e8a9-5226-4b0a-a4aa-e6c1c3d4c7eb",
   "metadata": {},
   "source": [
    "## 18. Ticket Type Pricing"
   ]
  },
  {
   "cell_type": "code",
   "execution_count": 8,
   "id": "f5e2c1ee-dbb3-474f-8709-0f0e1c5b3066",
   "metadata": {},
   "outputs": [
    {
     "name": "stdin",
     "output_type": "stream",
     "text": [
      "Enter the Price of Ticket 300\n"
     ]
    },
    {
     "name": "stdout",
     "output_type": "stream",
     "text": [
      "The price of ticket is:330.0\n"
     ]
    }
   ],
   "source": [
    "Ticket_Price=int(input(\"Enter the Price of Ticket\"))\n",
    "Weekan_ticket=True\n",
    "if Weekan_ticket:\n",
    "    surcharge=0.10\n",
    "    final_price=Ticket_Price*(1+surcharge)\n",
    "else:\n",
    "    final_price=Ticket_Price\n",
    "print(f\"The price of ticket is:{final_price}\")"
   ]
  },
  {
   "cell_type": "markdown",
   "id": "64122d9d-bad0-4d7e-aa16-ee29b4a68c13",
   "metadata": {},
   "source": [
    "## 19. Baggage Fee"
   ]
  },
  {
   "cell_type": "code",
   "execution_count": 13,
   "id": "52de55ab-770a-427c-885a-213c545c4ac5",
   "metadata": {},
   "outputs": [
    {
     "name": "stdin",
     "output_type": "stream",
     "text": [
      "Enter weight (in kg): 23\n",
      "Enter the price of product 200\n"
     ]
    },
    {
     "name": "stdout",
     "output_type": "stream",
     "text": [
      "The extra Fee for Extra Weigh:30\n"
     ]
    }
   ],
   "source": [
    "weight=int(input(\"Enter weight (in kg):\"))\n",
    "product_price=int(input(\"Enter the price of product\"))\n",
    "charge=10\n",
    "Allow_Max_Weight=20\n",
    "if weight>Allow_Max_Weight:\n",
    "    Extra_weight=weight-Allow_Max_Weight\n",
    "    Extra_charge=Extra_weight*charge\n",
    "else:\n",
    "    Extra_charge=0\n",
    "print(f\"The extra Fee for Extra Weigh:{Extra_charge}\")"
   ]
  },
  {
   "cell_type": "markdown",
   "id": "b9f42663-3280-4899-ac06-d55ff5b88149",
   "metadata": {},
   "source": [
    "## 20. Early Bird Discount"
   ]
  },
  {
   "cell_type": "code",
   "execution_count": 15,
   "id": "940c02a5-8b82-40df-af7d-15cc137a3b90",
   "metadata": {},
   "outputs": [
    {
     "name": "stdin",
     "output_type": "stream",
     "text": [
      "Enter the date of booking 2000\n",
      "Enter the price of ticket 3000\n"
     ]
    },
    {
     "name": "stdout",
     "output_type": "stream",
     "text": [
      "The Discount Price of Ticket:300.0\n",
      "The Final Price of Ticket:2700.0\n"
     ]
    }
   ],
   "source": [
    "Booking_Date=int(input(\"Enter the date of booking\"))\n",
    "Ticket_price=int(input(\"Enter the price of ticket\"))\n",
    "if Booking_Date>=30:\n",
    "    discount=0.10\n",
    "    final_price=Ticket_price*(1-discount)\n",
    "else:\n",
    "    final_price=Ticket_price\n",
    "print(f\"The Discount Price of Ticket:{Ticket_price-final_price}\")\n",
    "print(f\"The Final Price of Ticket:{final_price}\")"
   ]
  },
  {
   "cell_type": "markdown",
   "id": "260fd274-5c0b-4b7c-81fa-34ea97ad9e44",
   "metadata": {},
   "source": [
    "# E- Grades and Performance"
   ]
  },
  {
   "cell_type": "markdown",
   "id": "b13488ae-fb0d-4e61-b145-3197447017f3",
   "metadata": {},
   "source": [
    "## 21. Pass or Fail"
   ]
  },
  {
   "cell_type": "code",
   "execution_count": 17,
   "id": "9b5b5d5c-ac58-433b-97bf-33ad46769ac2",
   "metadata": {},
   "outputs": [
    {
     "name": "stdin",
     "output_type": "stream",
     "text": [
      "Enter the Score 55\n"
     ]
    },
    {
     "name": "stdout",
     "output_type": "stream",
     "text": [
      "You Are:Pass\n"
     ]
    }
   ],
   "source": [
    "Score=int(input(\"Enter the Score\"))\n",
    "if Score>40:\n",
    "    Grade=\"Pass\"\n",
    "else:\n",
    "    Grade=\"Fail\"\n",
    "print(f\"You Are:{Grade}\")"
   ]
  },
  {
   "cell_type": "markdown",
   "id": "4faa054c-aee5-4a72-ab2c-f05a96d4223f",
   "metadata": {},
   "source": [
    "## 22. Grade Assignment"
   ]
  },
  {
   "cell_type": "code",
   "execution_count": 21,
   "id": "c969aefe-7112-4590-92e0-e569241d6321",
   "metadata": {},
   "outputs": [
    {
     "name": "stdin",
     "output_type": "stream",
     "text": [
      "Enter the Marks of Student 90\n"
     ]
    },
    {
     "name": "stdout",
     "output_type": "stream",
     "text": [
      "The Student Acheive:A Grade\n"
     ]
    }
   ],
   "source": [
    "student_Score=int(input(\"Enter the Marks of Student\"))\n",
    "if student_Score>=90:\n",
    "    Grade=\"A\"\n",
    "elif 75<= student_Score<90:\n",
    "    Grade=\"B\"\n",
    "elif 50<= student_Score<75:\n",
    "    Grade=\"C\"\n",
    "else:\n",
    "    Grade=\"F\"\n",
    "print(f\"The Student Acheive:{Grade} Grade\")"
   ]
  },
  {
   "cell_type": "markdown",
   "id": "08f6e60c-5a7a-43de-a5e5-f909bdefa344",
   "metadata": {},
   "source": [
    "## Bonus Marks"
   ]
  },
  {
   "cell_type": "code",
   "execution_count": 24,
   "id": "9d5aaff3-5c82-43a1-a38a-27a8153e70f8",
   "metadata": {},
   "outputs": [
    {
     "name": "stdin",
     "output_type": "stream",
     "text": [
      "Enter the Marks of Student 56\n"
     ]
    },
    {
     "name": "stdout",
     "output_type": "stream",
     "text": [
      "The Total Marks of student:56\n"
     ]
    }
   ],
   "source": [
    "student_Score=int(input(\"Enter the Marks of Student\"))\n",
    "Assignment_Complete=False\n",
    "if Assignment_Complete:\n",
    "    Bonus_Marks=5\n",
    "    Total_Marks=student_Score+Bonus_Marks\n",
    "else:\n",
    "    Bonus_Marks=0\n",
    "    Total_Marks=student_Score+Bonus_Marks\n",
    "print(f\"The Total Marks of student:{Total_Marks}\")"
   ]
  },
  {
   "cell_type": "markdown",
   "id": "0935149a-223c-46f9-8d48-4be9b0497658",
   "metadata": {},
   "source": [
    "## 24. Attendance Eligibility"
   ]
  },
  {
   "cell_type": "code",
   "execution_count": 26,
   "id": "32789b2e-a0df-40cd-b7f8-3a2e261c81a5",
   "metadata": {},
   "outputs": [
    {
     "name": "stdin",
     "output_type": "stream",
     "text": [
      "Enter the Attendance of Student: 80\n"
     ]
    },
    {
     "name": "stdout",
     "output_type": "stream",
     "text": [
      "You are eligible to take the exam\n"
     ]
    }
   ],
   "source": [
    "student_attendance=int(input(\"Enter the Attendance of Student:\"))\n",
    "if student_attendance>=75:\n",
    "    comment=\"You are eligible to take the exam\"\n",
    "else:\n",
    "    comment=\"You are not eligible to take the exam\"\n",
    "print(f\"{comment}\")"
   ]
  },
  {
   "cell_type": "markdown",
   "id": "e027e0d9-b95b-44c5-9c6c-ebdf61f5bbf1",
   "metadata": {},
   "source": [
    "## 25. Scholarship Eligibility"
   ]
  },
  {
   "cell_type": "code",
   "execution_count": 29,
   "id": "e5efde70-a42f-48b4-8fa2-e3deab79e658",
   "metadata": {},
   "outputs": [
    {
     "name": "stdin",
     "output_type": "stream",
     "text": [
      "Enter the Grade of Student A\n",
      "Enter the Monthly income of Family 34000\n"
     ]
    },
    {
     "name": "stdout",
     "output_type": "stream",
     "text": [
      "The student is: Not Eligible for scholarship\n"
     ]
    }
   ],
   "source": [
    "Student_Grade=input(\"Enter the Grade of Student\")\n",
    "Monthly_Income=int(input(\"Enter the Monthly income of Family\"))\n",
    "if Student_Grade==\"A\" and Monthly_Income<30000:\n",
    "    eligibility = \"Eligible for scholarship\"\n",
    "else:\n",
    "    eligibility = \"Not Eligible for scholarship\"\n",
    "print(f\"The student is: {eligibility}\")"
   ]
  },
  {
   "cell_type": "code",
   "execution_count": null,
   "id": "102c206d-adf0-4ea6-9c86-533e5f019e17",
   "metadata": {},
   "outputs": [],
   "source": []
  }
 ],
 "metadata": {
  "kernelspec": {
   "display_name": "Python 3 (ipykernel)",
   "language": "python",
   "name": "python3"
  },
  "language_info": {
   "codemirror_mode": {
    "name": "ipython",
    "version": 3
   },
   "file_extension": ".py",
   "mimetype": "text/x-python",
   "name": "python",
   "nbconvert_exporter": "python",
   "pygments_lexer": "ipython3",
   "version": "3.12.7"
  }
 },
 "nbformat": 4,
 "nbformat_minor": 5
}
