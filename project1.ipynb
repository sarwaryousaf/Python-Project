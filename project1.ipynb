{
 "cells": [
  {
   "cell_type": "code",
   "execution_count": 35,
   "id": "d3f1e2db-fef5-4e6d-b1ef-159fc99d3d7f",
   "metadata": {},
   "outputs": [],
   "source": [
    "accounts={}"
   ]
  },
  {
   "cell_type": "code",
   "execution_count": 36,
   "id": "625a2b1b-a125-4025-8076-626dbed0400c",
   "metadata": {},
   "outputs": [],
   "source": [
    "def create_account(account_number,name):\n",
    "    if account_number in accounts:\n",
    "        print(\"Account is already Exists\")\n",
    "        return\n",
    "    accounts[account_number]={\n",
    "        \"name\":name,\n",
    "        \"balance\":0.0,\n",
    "        \"transactions\":[]\n",
    "        }\n",
    "    print(f\"account for {name} created successfully with account number {account_number}\")\n"
   ]
  },
  {
   "cell_type": "code",
   "execution_count": 37,
   "id": "1e5d4832-5d91-4457-804e-1821cabf0235",
   "metadata": {},
   "outputs": [
    {
     "name": "stdout",
     "output_type": "stream",
     "text": [
      "account for Muhammad Sarwar created successfully with account number 12123\n",
      "account for Muhammad Sarwar created successfully with account number 1\n",
      "account for yousaf ali created successfully with account number 2\n"
     ]
    }
   ],
   "source": [
    "create_account(12123,\"Muhammad Sarwar\")\n",
    "create_account(1,\"Muhammad Sarwar\")\n",
    "create_account(2,\"yousaf ali\")"
   ]
  },
  {
   "cell_type": "code",
   "execution_count": 38,
   "id": "9e3b9c3d-88f3-416e-b31c-ee156f686c11",
   "metadata": {},
   "outputs": [],
   "source": [
    "def deposit(account_number,amount):\n",
    "    if account_number not in accounts:\n",
    "        print(\"Account does not exist\")\n",
    "        return\n",
    "    if amount<=0:\n",
    "        print(\"deposit amount must be positive\")\n",
    "        return\n",
    "    accounts[account_number][\"balance\"]+=amount\n",
    "    transactions = f\"Deposited:{amount}\"\n",
    "    accounts[account_number][\"transactions\"].append(transactions)\n",
    "\n",
    "    with open(f\"{account_number}_transactions.txt\",\"a\")as file:\n",
    "        file.write(transactions +\"\\n\") "
   ]
  },
  {
   "cell_type": "code",
   "execution_count": 39,
   "id": "35aad060-fc3e-4be3-9ce6-b7f99611c5b3",
   "metadata": {},
   "outputs": [],
   "source": [
    "deposit(12123,5000)\n",
    "deposit(1,5000)\n",
    "deposit(2,5000)"
   ]
  },
  {
   "cell_type": "code",
   "execution_count": 40,
   "id": "79abb610-0732-42a8-9692-f5c109ddf001",
   "metadata": {},
   "outputs": [
    {
     "name": "stdout",
     "output_type": "stream",
     "text": [
      "{12123: {'name': 'Muhammad Sarwar', 'balance': 5000.0, 'transactions': ['Deposited:5000']}, 1: {'name': 'Muhammad Sarwar', 'balance': 5000.0, 'transactions': ['Deposited:5000']}, 2: {'name': 'yousaf ali', 'balance': 5000.0, 'transactions': ['Deposited:5000']}}\n"
     ]
    }
   ],
   "source": [
    "print(accounts)"
   ]
  },
  {
   "cell_type": "code",
   "execution_count": 50,
   "id": "ec6d6226-a4cf-42f8-90d0-86342099b780",
   "metadata": {},
   "outputs": [
    {
     "name": "stdout",
     "output_type": "stream",
     "text": [
      "You have insufficient balance\n"
     ]
    }
   ],
   "source": [
    "def widthDraw(account_number,amount):\n",
    "    if account_number not in accounts:\n",
    "        print(\"Account does not exist\")\n",
    "        return\n",
    "    if accounts[account_number][\"balance\"]<amount:\n",
    "        print(\"You have insufficient balance\")\n",
    "        return\n",
    "    if amount<=0:\n",
    "        print(\"Widthdraw amount must be positive\")\n",
    "        return\n",
    "    accounts[account_number][\"balance\"]-=amount\n",
    "    transactions = f\"WidthDrew:{amount}\"\n",
    "    accounts[account_number][\"transactions\"].append(transactions)\n",
    "\n",
    "    try:\n",
    "        with open(f\"{account_number}_transactions.txt\",\"a\")as file:\n",
    "            file.write(transactions +\"\\n\") \n",
    "    except IOError: \n",
    "        print(\"An error occurred while writing the transaction to the file.\")\n",
    "widthDraw(1,4000)"
   ]
  },
  {
   "cell_type": "code",
   "execution_count": 51,
   "id": "4a798843-3a19-4627-bc22-92d5315d6d37",
   "metadata": {},
   "outputs": [
    {
     "name": "stdout",
     "output_type": "stream",
     "text": [
      "{'name': 'Muhammad Sarwar', 'balance': -200.0, 'transactions': ['Deposited:5000', 'WidthDraw:600', 'WidthDraw:600', 'WidthDraw:4000']}\n"
     ]
    }
   ],
   "source": [
    "print(accounts[1])"
   ]
  },
  {
   "cell_type": "code",
   "execution_count": 54,
   "id": "c5a3e52d-191b-4945-83f2-601834af5f55",
   "metadata": {},
   "outputs": [
    {
     "name": "stdout",
     "output_type": "stream",
     "text": [
      "Account created for Alice\n",
      "Account created for Bob\n",
      "Insufficient balance\n",
      "Current balance for account 101: 1200\n",
      "Current balance for account 102: 100\n",
      "Transaction history for account 101:\n",
      "Deposited: 200\n",
      "Current balance: 1200\n",
      "Transaction history for account 102:\n",
      "Deposited: 300\n",
      "Withdrew: 700\n",
      "Current balance: 100\n"
     ]
    }
   ],
   "source": [
    "# Initialize the accounts dictionary\n",
    "accounts = {}\n",
    "\n",
    "# Function to create a new account\n",
    "def create_account(account_number, name, initial_balance=0):\n",
    "    if account_number in accounts:\n",
    "        print(\"Account already exists\")\n",
    "        return\n",
    "    if initial_balance < 0:\n",
    "        print(\"Initial balance cannot be negative\")\n",
    "        return\n",
    "    accounts[account_number] = {\n",
    "        \"name\": name,\n",
    "        \"balance\": initial_balance,\n",
    "        \"transactions\": []\n",
    "    }\n",
    "    print(f\"Account created for {name}\")\n",
    "\n",
    "# Function to deposit money into an account\n",
    "def deposit(account_number, amount):\n",
    "    if account_number not in accounts:\n",
    "        print(\"Account does not exist\")\n",
    "        return\n",
    "    if amount <= 0:\n",
    "        print(\"Deposit amount must be positive\")\n",
    "        return\n",
    "    accounts[account_number][\"balance\"] += amount\n",
    "    transaction = f\"Deposited: {amount}\"\n",
    "    accounts[account_number][\"transactions\"].append(transaction)\n",
    "    try:\n",
    "        with open(f\"{account_number}_transactions.txt\", \"a\") as file:\n",
    "            file.write(transaction + \"\\n\")\n",
    "    except IOError:\n",
    "        print(\"An error occurred while writing the transaction to the file.\")\n",
    "\n",
    "# Function to withdraw money from an account\n",
    "def withdraw(account_number, amount):\n",
    "    if account_number not in accounts:\n",
    "        print(\"Account does not exist\")\n",
    "        return\n",
    "    if amount <= 0:\n",
    "        print(\"Withdrawal amount must be positive\")\n",
    "        return\n",
    "    if accounts[account_number][\"balance\"] < amount:\n",
    "        print(\"Insufficient balance\")\n",
    "        return\n",
    "    accounts[account_number][\"balance\"] -= amount\n",
    "    transaction = f\"Withdrew: {amount}\"\n",
    "    accounts[account_number][\"transactions\"].append(transaction)\n",
    "    try:\n",
    "        with open(f\"{account_number}_transactions.txt\", \"a\") as file:\n",
    "            file.write(transaction + \"\\n\")\n",
    "    except IOError:\n",
    "        print(\"An error occurred while writing the transaction to the file.\")\n",
    "\n",
    "# Function to check the balance of an account\n",
    "def check_balance(account_number):\n",
    "    if account_number not in accounts:\n",
    "        print(\"Account does not exist\")\n",
    "        return\n",
    "    print(f\"Current balance for account {account_number}: {accounts[account_number]['balance']}\")\n",
    "\n",
    "# Function to print the statement of an account\n",
    "def print_statement(account_number):\n",
    "    if account_number not in accounts:\n",
    "        print(\"Account does not exist\")\n",
    "        return\n",
    "    transactions = accounts[account_number][\"transactions\"]\n",
    "    if not transactions:\n",
    "        print(\"No transactions found\")\n",
    "        return\n",
    "    print(f\"Transaction history for account {account_number}:\")\n",
    "    for transaction in transactions:\n",
    "        print(transaction)\n",
    "    print(f\"Current balance: {accounts[account_number]['balance']}\")\n",
    "\n",
    "# Test scenarios\n",
    "# Create accounts\n",
    "create_account(101, \"Alice\", 1000)\n",
    "create_account(102, \"Bob\", 500)\n",
    "\n",
    "# Deposits\n",
    "deposit(101, 200)\n",
    "deposit(102, 300)\n",
    "\n",
    "# Withdrawals\n",
    "withdraw(101, 3050)\n",
    "withdraw(102, 700)\n",
    "\n",
    "# Check balances\n",
    "check_balance(101)\n",
    "check_balance(102)\n",
    "\n",
    "# Print statements\n",
    "print_statement(101)\n",
    "print_statement(102)\n"
   ]
  },
  {
   "cell_type": "code",
   "execution_count": null,
   "id": "77f3011f-d923-4ce8-b38c-39ce3d4d1598",
   "metadata": {},
   "outputs": [],
   "source": []
  }
 ],
 "metadata": {
  "kernelspec": {
   "display_name": "Python 3 (ipykernel)",
   "language": "python",
   "name": "python3"
  },
  "language_info": {
   "codemirror_mode": {
    "name": "ipython",
    "version": 3
   },
   "file_extension": ".py",
   "mimetype": "text/x-python",
   "name": "python",
   "nbconvert_exporter": "python",
   "pygments_lexer": "ipython3",
   "version": "3.12.7"
  }
 },
 "nbformat": 4,
 "nbformat_minor": 5
}
