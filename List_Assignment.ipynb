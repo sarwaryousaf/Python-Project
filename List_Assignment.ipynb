{
 "cells": [
  {
   "cell_type": "markdown",
   "id": "685ba8d3-d0d9-456e-9f8a-0452c38cc808",
   "metadata": {},
   "source": [
    "## Saylani Mass IT \n",
    "### Name   : Muhammad Sarwar\n",
    "### Course : AI and DS\n",
    "### Days   : Tuesday and Thursday\n",
    "### ID     : AI - 333166\n",
    "             "
   ]
  },
  {
   "cell_type": "markdown",
   "id": "dc23b5f2-e2d0-4f1e-b8b1-f29e70d9a5e2",
   "metadata": {},
   "source": [
    "## List Assignment"
   ]
  },
  {
   "cell_type": "markdown",
   "id": "d1a10665-6576-465e-8fe9-8b19728c7dff",
   "metadata": {},
   "source": [
    "1. Write a program that accepts a list from user and print the alternate element of list."
   ]
  },
  {
   "cell_type": "code",
   "execution_count": 5,
   "id": "0450a6d8-c495-4901-8be6-45914eb4aacd",
   "metadata": {},
   "outputs": [
    {
     "name": "stdin",
     "output_type": "stream",
     "text": [
      "Enter a list of Elements sarwar aqeel Ali\n"
     ]
    },
    {
     "name": "stdout",
     "output_type": "stream",
     "text": [
      "Alternate elements of the list are: ['sarwar', 'aqeel', 'Ali']\n"
     ]
    }
   ],
   "source": [
    "myList=input(\"Enter a list of Elements\")\n",
    "userList=myList.split()\n",
    "print(\"Alternate elements of the list are:\",userList)"
   ]
  },
  {
   "cell_type": "markdown",
   "id": "b2edfa55-d90c-4886-a5d7-b3312ef99239",
   "metadata": {},
   "source": [
    "2. Write a program that accepts a list from user. Your program should reverse the content of list and\n",
    "display it. Do not use reverse() method."
   ]
  },
  {
   "cell_type": "code",
   "execution_count": 8,
   "id": "0de28871-35d5-4d03-94ce-199e92d73d5f",
   "metadata": {},
   "outputs": [
    {
     "name": "stdin",
     "output_type": "stream",
     "text": [
      "enter the list of element sarwar aqeel Muhammad Ali\n"
     ]
    },
    {
     "name": "stdout",
     "output_type": "stream",
     "text": [
      "['sarwar', 'aqeel', 'Muhammad', 'Ali']\n"
     ]
    },
    {
     "data": {
      "text/plain": [
       "['Ali', 'Muhammad', 'aqeel', 'sarwar']"
      ]
     },
     "execution_count": 8,
     "metadata": {},
     "output_type": "execute_result"
    }
   ],
   "source": [
    "newList=input(\"enter the list of element\")\n",
    "userLst=newList.split()\n",
    "print(userLst)\n",
    "userLst[::-1]"
   ]
  },
  {
   "cell_type": "markdown",
   "id": "c230f34b-e2c8-4569-8550-358b7b1948f9",
   "metadata": {},
   "source": [
    "3. Find and display the largest number of a list without using built-in function max(). Your program\n",
    "should ask the user to input values in list from keyboard."
   ]
  },
  {
   "cell_type": "code",
   "execution_count": 16,
   "id": "46f21afa-d6bf-4176-ac63-777528138d51",
   "metadata": {},
   "outputs": [
    {
     "name": "stdin",
     "output_type": "stream",
     "text": [
      "Enter the list of number 3 4 2 5\n"
     ]
    },
    {
     "name": "stdout",
     "output_type": "stream",
     "text": [
      "The largest number of List is : 5\n"
     ]
    }
   ],
   "source": [
    "num=(input(\"Enter the list of number\"))\n",
    "numList=num.split()\n",
    "if len(numList)==0:\n",
    "    print(\"Empty List\")\n",
    "else:\n",
    "    largest_num=int(numList[0])\n",
    "    for num in numList:\n",
    "        if int(num)>largest_num:\n",
    "            largest_num=int(num)\n",
    "    print(f\"The largest number in List is : {largest_num}\")"
   ]
  },
  {
   "cell_type": "markdown",
   "id": "6e435868-9871-472d-97b4-fafa82dccaa3",
   "metadata": {},
   "source": [
    "4. Write a program that rotates the element of a list so that the element at the first index moves to the\n",
    "second index, the element in the second index moves to the third index, etc., and the element in the last\n",
    "index moves to the first index."
   ]
  },
  {
   "cell_type": "code",
   "execution_count": 18,
   "id": "4364e325-e64a-48e8-9962-f78c6cd2ed0a",
   "metadata": {},
   "outputs": [
    {
     "name": "stdin",
     "output_type": "stream",
     "text": [
      "Enter the list of number \n"
     ]
    },
    {
     "name": "stdout",
     "output_type": "stream",
     "text": [
      "Empty List\n"
     ]
    }
   ],
   "source": [
    "num=(input(\"Enter the list of number\"))\n",
    "numList=num.split()\n",
    "if len(numList)==0:\n",
    "    print(\"Empty List\")\n",
    "else:\n",
    "    Rotate_List=numList[-1:]+numList[:-1]\n",
    "    print(f\"The largest number in List is : {Rotate_List}\")"
   ]
  },
  {
   "cell_type": "markdown",
   "id": "d3899b66-b155-4ae0-8275-4241ca646c9e",
   "metadata": {},
   "source": [
    "5. Write a program that input a string and ask user to delete a given word from a string."
   ]
  },
  {
   "cell_type": "code",
   "execution_count": 20,
   "id": "e1eda9aa-d9ee-4be5-9f56-d2dc8d53f6db",
   "metadata": {},
   "outputs": [
    {
     "name": "stdin",
     "output_type": "stream",
     "text": [
      "Enter a String: sarwar yousaf ali mubeen muhamad aqeel\n",
      "Enter the word to Delete: sarwar\n"
     ]
    },
    {
     "name": "stdout",
     "output_type": "stream",
     "text": [
      "String after deleting the word: yousaf ali mubeen muhamad aqeel\n"
     ]
    }
   ],
   "source": [
    "input_string=input(\"Enter a String:\")\n",
    "delete_word=input(\"Enter the word to Delete:\")\n",
    "word_list=input_string.split()\n",
    "word_list=[word for word in word_list if word != word_to_delete] \n",
    "output_string = ' '.join(word_list)\n",
    "print(\"String after deleting the word:\", output_string)"
   ]
  },
  {
   "cell_type": "markdown",
   "id": "b8368a47-cfa4-40b3-80f3-644b780c9977",
   "metadata": {},
   "source": [
    "6. Write a program that reads a string from the user containing a date in the form mm/dd/yyyy. It\n",
    "should print the date in the form March 12, 2021."
   ]
  },
  {
   "cell_type": "code",
   "execution_count": 3,
   "id": "bdfe5b45-c8bb-4b0b-b2c1-82e7e9d6ebcc",
   "metadata": {},
   "outputs": [
    {
     "name": "stdin",
     "output_type": "stream",
     "text": [
      "Enter a date (mm/dd/yyyy):  11/11/2022\n"
     ]
    },
    {
     "name": "stdout",
     "output_type": "stream",
     "text": [
      "November 11 2022\n"
     ]
    }
   ],
   "source": [
    "months={\"01\":\"january\",\"02\":\"Feburary\",\"03\":\"March\",\"04\":\"April\",\n",
    "        \"05\":\"May\",\"06\":\"June\",\"07\":\"July\",\"08\":\"August\",\n",
    "        \"09\":\"September\",\"10\":\"October\",\"11\":\"November\",\"12\":\"December\"}\n",
    "date_input = input(\"Enter a date (mm/dd/yyyy): \")\n",
    "month,day,year=date_input.split(\"/\")\n",
    "month_name=months[month]\n",
    "print(f\"{month_name} {day} {year}\")"
   ]
  },
  {
   "cell_type": "markdown",
   "id": "ff8a61ea-29a6-46a0-b293-7c676aadf2a3",
   "metadata": {},
   "source": [
    "7. Write a program with a function that accepts a string from keyboard and create a new string after\n",
    "converting character of each word capitalized. For instance, if the sentence is \"stop and smell the roses.\"\n",
    "the output should be \"Stop And Smell The Roses\""
   ]
  },
  {
   "cell_type": "code",
   "execution_count": 1,
   "id": "1b25154f-e4c1-4abb-9696-564c105cdbcf",
   "metadata": {},
   "outputs": [
    {
     "name": "stdin",
     "output_type": "stream",
     "text": [
      "Enter any sentence (in lower form sarwar\n"
     ]
    },
    {
     "name": "stdout",
     "output_type": "stream",
     "text": [
      "SARWAR\n"
     ]
    }
   ],
   "source": [
    "def capitalize():\n",
    "    sentence=input(\"Enter any sentence (in lower form\")\n",
    "    word_capitalized=sentence.upper()\n",
    "    print(word_capitalized)\n",
    "capitalize()"
   ]
  },
  {
   "cell_type": "markdown",
   "id": "1d939b0f-4ba8-40aa-9541-ba7a4e8040a5",
   "metadata": {},
   "source": [
    "8. Find the sum of each row of matrix of size m x n. For example for the following matrix output will be\n",
    "like this :\n",
    "\n",
    "Sum of row 1 = 32\n",
    "Sum of row 2 = 31\n",
    "Sum of row 3 = 63"
   ]
  },
  {
   "cell_type": "code",
   "execution_count": 5,
   "id": "cae52921-da75-4525-af08-46926b4fb4d9",
   "metadata": {},
   "outputs": [
    {
     "name": "stdin",
     "output_type": "stream",
     "text": [
      "Enter the number of rows:  2\n",
      "Enter the number of columns:  2\n"
     ]
    },
    {
     "name": "stdout",
     "output_type": "stream",
     "text": [
      "Enter the elements row by row:\n"
     ]
    },
    {
     "name": "stdin",
     "output_type": "stream",
     "text": [
      " 2 3 4\n",
      " 2 3 4\n"
     ]
    },
    {
     "name": "stdout",
     "output_type": "stream",
     "text": [
      "Sum of row 1 = 9\n",
      "Sum of row 2 = 9\n"
     ]
    }
   ],
   "source": [
    "def read_matrix():\n",
    "    rows = int(input(\"Enter the number of rows: \"))\n",
    "    cols = int(input(\"Enter the number of columns: \"))\n",
    "    matrix = []\n",
    "    print(\"Enter the elements row by row:\")\n",
    "    for i in range(rows):\n",
    "        row = list(map(int, input().split()))\n",
    "        matrix.append(row)\n",
    "    return matrix\n",
    "def sum_of_rows(matrix):\n",
    "    for i in range(len(matrix)):\n",
    "        row_sum = sum(matrix[i])\n",
    "        print(f\"Sum of row {i + 1} = {row_sum}\")\n",
    "matrix = read_matrix()\n",
    "sum_of_rows(matrix)\n"
   ]
  },
  {
   "cell_type": "markdown",
   "id": "3deb8626-c9e3-465f-b220-3f993f1fbf2e",
   "metadata": {},
   "source": [
    "9. Write a program to add two matrices of size n x m."
   ]
  },
  {
   "cell_type": "code",
   "execution_count": null,
   "id": "80784595-8cab-4339-b977-39dbce3ea0f9",
   "metadata": {},
   "outputs": [],
   "source": [
    "def read_matrix():\n",
    "    rows = int(input(\"Enter the number of rows: \"))\n",
    "    cols = int(input(\"Enter the number of columns: \"))\n",
    "    matrix = []\n",
    "    print(\"Enter the elements row by row:\")\n",
    "    for i in range(rows):\n",
    "        row = list(map(int, input().split()))\n",
    "        matrix.append(row)\n",
    "    return matrix\n",
    "def sum_of_rows(matrix):\n",
    "    for i in range(len(matrix)):\n",
    "        row_sum += sum(matrix[i])\n",
    "        print(f\"Sum of row {i + 1} = {row_sum}\")\n",
    "matrix = read_matrix()\n",
    "sum_of_rows(matrix)\n"
   ]
  },
  {
   "cell_type": "markdown",
   "id": "bb4c2a00-445d-4e9b-833d-6ebc3610760b",
   "metadata": {},
   "source": [
    "10. Write a program to multiply two matrices"
   ]
  },
  {
   "cell_type": "code",
   "execution_count": 8,
   "id": "db3057a7-ec2e-49aa-9fbd-c5dca5f041ab",
   "metadata": {},
   "outputs": [
    {
     "name": "stdin",
     "output_type": "stream",
     "text": [
      "Enter the no of rows: 2\n",
      "Enter the no of columns: 2\n"
     ]
    },
    {
     "name": "stdout",
     "output_type": "stream",
     "text": [
      "Enter elements of the first matrix:\n"
     ]
    },
    {
     "name": "stdin",
     "output_type": "stream",
     "text": [
      "Enter the Elements [0][0]: 2\n",
      "Enter the Elements [0][0]: 3\n",
      "Enter the Elements [1][1]: 4\n",
      "Enter the Elements [1][1]: 5\n"
     ]
    },
    {
     "name": "stdout",
     "output_type": "stream",
     "text": [
      "Enter elements of the Second matrix:\n"
     ]
    },
    {
     "name": "stdin",
     "output_type": "stream",
     "text": [
      "Enter the Elements [0][0]: 5\n",
      "Enter the Elements [0][0]: 4\n",
      "Enter the Elements [1][1]: 3\n",
      "Enter the Elements [1][1]: 6\n"
     ]
    },
    {
     "name": "stdout",
     "output_type": "stream",
     "text": [
      "The resulting matrix after addition is:\n",
      "[7, 7]\n",
      "[7, 11]\n"
     ]
    }
   ],
   "source": [
    "def sum_matrices(matrix1,matrx2):\n",
    "    if len(matrix1)!=len(matrix2) or len(matrix1[0])!=len(matrix2[0]):\n",
    "        print(\"Matrices must have the same dimensions for addition.\")\n",
    "        return None\n",
    "    result=[[matrix1[i][j]+matrix2[i][j] for j in range(len(matrix1[0]))] for i in range(len(matrix2[0]))]\n",
    "    return result\n",
    "a=int(input(\"Enter the no of rows:\"))\n",
    "b=int(input(\"Enter the no of columns:\"))\n",
    "print(\"Enter elements of the first matrix:\")\n",
    "matrix1=[[int(input(f\"Enter the Elements [{i}][{i}]:\")) for j in range(b)] for i in range(a)]\n",
    "print(\"Enter elements of the Second matrix:\")\n",
    "matrix2=[[int(input(f\"Enter the Elements [{i}][{i}]:\")) for j in range(b)] for i in range(a)]\n",
    "if len(matrix1) == len(matrix2) and len(matrix1[0]) == len(matrix2[0]):\n",
    "    result_matrix = sum_matrices(matrix1, matrix2)\n",
    "    print(\"The resulting matrix after addition is:\")\n",
    "    for row in result_matrix:\n",
    "        print(row)\n",
    "else:\n",
    "    print(\"Matrices must have the same dimensions.\")"
   ]
  },
  {
   "cell_type": "code",
   "execution_count": null,
   "id": "2bc63f5b-466d-440f-b71b-66572cc3d987",
   "metadata": {},
   "outputs": [],
   "source": []
  }
 ],
 "metadata": {
  "kernelspec": {
   "display_name": "Python 3 (ipykernel)",
   "language": "python",
   "name": "python3"
  },
  "language_info": {
   "codemirror_mode": {
    "name": "ipython",
    "version": 3
   },
   "file_extension": ".py",
   "mimetype": "text/x-python",
   "name": "python",
   "nbconvert_exporter": "python",
   "pygments_lexer": "ipython3",
   "version": "3.12.7"
  }
 },
 "nbformat": 4,
 "nbformat_minor": 5
}
