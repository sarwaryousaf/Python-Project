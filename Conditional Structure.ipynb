{
 "cells": [
  {
   "cell_type": "markdown",
   "id": "a4c6931f-c19a-4683-833c-c66cc18b42bd",
   "metadata": {},
   "source": [
    "## Saylani Mass IT \n",
    "### Name   : Muhammad Sarwar\n",
    "### Course : AI and DS\n",
    "### Days   : Tuesday and Thursday\n",
    "### ID     : AI - 333166\n",
    "             "
   ]
  },
  {
   "cell_type": "markdown",
   "id": "397f712d-b483-4b0c-97d9-f0b72447cca7",
   "metadata": {},
   "source": [
    "1. Write a program that prompts the user to input a number and display if the number\n",
    "is even or odd."
   ]
  },
  {
   "cell_type": "code",
   "execution_count": 1,
   "id": "38df6663-6017-4fcb-8d8c-c3725f436171",
   "metadata": {},
   "outputs": [
    {
     "name": "stdin",
     "output_type": "stream",
     "text": [
      "Enter a number 3\n"
     ]
    },
    {
     "name": "stdout",
     "output_type": "stream",
     "text": [
      "3 is an Odd Number\n"
     ]
    }
   ],
   "source": [
    "num=int(input(\"Enter a number\"))\n",
    "if num%2==0:\n",
    "    print(f\"{num} is an Even Number\")\n",
    "else:\n",
    "    print(f\"{num} is an Odd Number\")"
   ]
  },
  {
   "cell_type": "markdown",
   "id": "3725dda0-4102-46a5-95ba-8e74894aac50",
   "metadata": {},
   "source": [
    "2. Write a Python program that takes an age as input and determines whether a person\n",
    "is eligible to vote. If the age is 18 or above, print \"You are eligible to vote.\" Otherwise,\n",
    "print \"You are not eligible to vote yet.\"."
   ]
  },
  {
   "cell_type": "code",
   "execution_count": 4,
   "id": "013bc305-c816-4ae0-aace-da2d6eaf39e5",
   "metadata": {},
   "outputs": [
    {
     "name": "stdin",
     "output_type": "stream",
     "text": [
      "Enter a Age 12\n"
     ]
    },
    {
     "name": "stdout",
     "output_type": "stream",
     "text": [
      "You are not eligible for Vote\n"
     ]
    }
   ],
   "source": [
    "Age=int(input(\"Enter a Age\"))\n",
    "if Age>=18:\n",
    "    is_eligible=\"You are eligible for Vote\"\n",
    "else:\n",
    "    is_eligible=\"You are not eligible for Vote\"\n",
    "print(f\"{is_eligible}\")"
   ]
  },
  {
   "cell_type": "markdown",
   "id": "961ef992-7e7f-453e-afc2-c1634b876781",
   "metadata": {},
   "source": [
    "3. Write a program that prompts the user to input two integers and outputs the largest."
   ]
  },
  {
   "cell_type": "code",
   "execution_count": 6,
   "id": "a97cee30-4485-4f07-bb4f-f6e8130bc48e",
   "metadata": {},
   "outputs": [
    {
     "name": "stdin",
     "output_type": "stream",
     "text": [
      "Enter a numbe:(num1) 4\n",
      "Enter a numbe:(num2) 2\n"
     ]
    },
    {
     "name": "stdout",
     "output_type": "stream",
     "text": [
      "4 is greater than 2\n"
     ]
    }
   ],
   "source": [
    "num1=int(input(\"Enter a numbe:(num1)\"))\n",
    "num2=int(input(\"Enter a numbe:(num2)\"))\n",
    "if num1>num2:\n",
    "    print(f\"{num1} is greater than {num2}\")\n",
    "else:\n",
    "    print(f\"{num1} is greater than {num2}\")"
   ]
  },
  {
   "cell_type": "markdown",
   "id": "0a770ec0-b4bb-4ab5-bcab-faf8c15d05e2",
   "metadata": {},
   "source": [
    "4. Write a program that prompts the user to enter a number and determines whether it\n",
    "is positive, negative, or zero. The program should print \"Positive\" if the number is\n",
    "greater than 0, \"Negative\" if the number is less than 0, and \"Zero\" if the number is 0."
   ]
  },
  {
   "cell_type": "code",
   "execution_count": 10,
   "id": "675166b2-7eaf-461e-b5d6-b787c15fa1d3",
   "metadata": {},
   "outputs": [
    {
     "name": "stdin",
     "output_type": "stream",
     "text": [
      "Enter a numbe: 0\n"
     ]
    },
    {
     "name": "stdout",
     "output_type": "stream",
     "text": [
      "The number is:Equal to zero\n"
     ]
    }
   ],
   "source": [
    "num=int(input(\"Enter a numbe:\"))\n",
    "if num>0:\n",
    "    number=\"Positive\"\n",
    "elif num<0:\n",
    "    number=\"Negative\"\n",
    "elif num==0:\n",
    "    number=\"Equal to zero\"\n",
    "print(f\"The number is:{number}\")"
   ]
  },
  {
   "cell_type": "markdown",
   "id": "d811578a-fc14-4e75-b5b7-44ec7b719cab",
   "metadata": {},
   "source": [
    "5. Write a program that prompts the user to enter their age and prints the\n",
    "corresponding age group. The program should use the following age groups:\n",
    "0-12: Child\n",
    "13-19: Teenager\n",
    "20-59: Adult\n",
    "60 and above: Senior Citizen"
   ]
  },
  {
   "cell_type": "code",
   "execution_count": 15,
   "id": "e83b98a9-edc7-46b9-ab3a-e17d367c7d5a",
   "metadata": {},
   "outputs": [
    {
     "name": "stdin",
     "output_type": "stream",
     "text": [
      "Enter a numbe: 19\n"
     ]
    },
    {
     "name": "stdout",
     "output_type": "stream",
     "text": [
      "The number is:Teenager\n"
     ]
    }
   ],
   "source": [
    "age=int(input(\"Enter a numbe:\"))\n",
    "if age>=0 and age<=12:\n",
    "    corresponding_age=\"Child\"\n",
    "elif age>12 and age<=19:\n",
    "    corresponding_age=\"Teenager\"\n",
    "elif age>19 and age<=59:\n",
    "    corresponding_age=\"Adult\"\n",
    "else:\n",
    "    corresponding_age=\"Seniour Citizen\"\n",
    "print(f\"The number is:{corresponding_age}\")"
   ]
  },
  {
   "cell_type": "markdown",
   "id": "2fd9c5ae-6178-4acf-acdb-6e1ffabce9e5",
   "metadata": {},
   "source": [
    "6. Write a program that prompts the user to input a number from 1 to 7. The program\n",
    "should display the corresponding day for the given number. For example, if the user\n",
    "types 1, the output should be Sunday. If the user types 7, the output should be\n",
    "Saturday. If the number is not between 1 to 7 user should get error message as shown\n",
    "in sample output."
   ]
  },
  {
   "cell_type": "code",
   "execution_count": 18,
   "id": "5b59619e-3345-41de-9980-bf2b2a288a7d",
   "metadata": {},
   "outputs": [
    {
     "name": "stdin",
     "output_type": "stream",
     "text": [
      "Enter a numbe( 1-7): 0\n"
     ]
    },
    {
     "name": "stdout",
     "output_type": "stream",
     "text": [
      "The number is: You Enter In Valid number\n"
     ]
    }
   ],
   "source": [
    "num=int(input(\"Enter a numbe( 1-7):\"))\n",
    "if num==1:\n",
    "    corresponding_day=\"Sunday\"\n",
    "elif num==2:\n",
    "    corresponding_day=\"Monday\"\n",
    "elif num==3:\n",
    "    corresponding_day=\"Tuesday\"\n",
    "elif num==4:\n",
    "    corresponding_day=\"Wednesday\"\n",
    "elif num==5:\n",
    "    corresponding_day=\"Thrusday\"\n",
    "elif num==6:\n",
    "    corresponding_day=\"Friday\"\n",
    "elif num==7:\n",
    "    corresponding_day=\"Saturday\"\n",
    "else:\n",
    "    corresponding_day=\"You Enter In Valid number\"\n",
    "print(f\"The number is: {corresponding_day}\")"
   ]
  },
  {
   "cell_type": "markdown",
   "id": "b4b7dcaa-29d4-49c7-84a2-68a1a66eb12d",
   "metadata": {},
   "source": [
    "7. Write a program that prompts the user to enter their weight (in kilograms) and height\n",
    "(in meters). The program should calculate the Body Mass Index (BMI) using the formula:\n",
    "BMI = weight / (height * height). The program should then classify the BMI into one of\n",
    "the following categories:\n",
    "less than 18.5 - Underweight\n",
    "BMI between 18.5 and 24.9 - Normal weight\n",
    "BMI between 25 and 29.9 - Overweight\n",
    "BMI 30 or greater - Obesity"
   ]
  },
  {
   "cell_type": "code",
   "execution_count": 26,
   "id": "4c9c150b-1082-4a47-854f-fe2ed3230e44",
   "metadata": {},
   "outputs": [
    {
     "name": "stdin",
     "output_type": "stream",
     "text": [
      "Enter a Weight in (KG): 100\n",
      "Enter a Height in (Meters): 2\n"
     ]
    },
    {
     "name": "stdout",
     "output_type": "stream",
     "text": [
      "The BMI is:Obesity\n"
     ]
    }
   ],
   "source": [
    "Weight=float(input(\"Enter a Weight in (KG):\"))\n",
    "Height=float(input(\"Enter a Height in (Meters):\"))\n",
    "Body_Mass_Index=Weight/(Height*Height)             \n",
    "if Body_Mass_Index<=18.5:\n",
    "    BMI=\"Underweight\"\n",
    "elif Body_Mass_Index>18.5 and Body_Mass_Index<=24.5:\n",
    "    BMI=\"Normal weight\"\n",
    "elif Body_Mass_Index>25 and Body_Mass_Index<=29.9:\n",
    "    BMI=\"Overweight\"\n",
    "else:\n",
    "    BMI=\"Obesity\"\n",
    "    corresponding_age=\"Seniour Citizen\"\n",
    "print(f\"The BMI is:{BMI}\")"
   ]
  },
  {
   "cell_type": "markdown",
   "id": "dcd88d5a-98bf-4a74-8b97-f9026c002e39",
   "metadata": {},
   "source": [
    "8. The marks obtained by a student in 3 different subjects are input by the user. Your\n",
    "program should calculate the average of subjects and display the grade. The student\n",
    "gets a grade as per the following rules:\n",
    "Average Grade\n",
    "90-100 A\n",
    "80-89 B\n",
    "70-79 C"
   ]
  },
  {
   "cell_type": "code",
   "execution_count": 29,
   "id": "e29b3848-0011-4fd0-9938-f4849ea0f40a",
   "metadata": {},
   "outputs": [
    {
     "name": "stdin",
     "output_type": "stream",
     "text": [
      "Enter a marks sub1: 90\n",
      "Enter a marks sub2: 95\n",
      "Enter a marks sub3: 97\n"
     ]
    },
    {
     "name": "stdout",
     "output_type": "stream",
     "text": [
      "The student got:A Grade\n"
     ]
    }
   ],
   "source": [
    "sub1=float(input(\"Enter a marks sub1:\"))\n",
    "sub2=float(input(\"Enter a marks sub2:\"))\n",
    "sub3=float(input(\"Enter a marks sub3:\"))\n",
    "average=(sub1+sub2+sub3)//3\n",
    "if average>=90 and average<=100:\n",
    "    Grade=\"A\"\n",
    "elif average>=80 and average<90:\n",
    "    Grade=\"B\"\n",
    "elif average>=70 and average<80:\n",
    "    Grade=\"C\"\n",
    "elif average>=60 and average<70:\n",
    "    Grade=\"D\"\n",
    "else:\n",
    "    Grade=\"F\"\n",
    "\n",
    "print(f\"The student got:{Grade} Grade\")"
   ]
  },
  {
   "cell_type": "markdown",
   "id": "bc06f356-5fcf-4321-90c8-56de1ccc5a34",
   "metadata": {},
   "source": [
    "9. The roots of the quadratic equation ax2\n",
    "\n",
    "+ bx + c = 0, a ≠ 0 are given by the following\n",
    "\n",
    "formula:\n",
    "\n",
    "In this formula, the term b2\n",
    "\n",
    "- 4ac is called the discriminant. If b2\n",
    "\n",
    "- 4ac = 0, then the\n",
    "\n",
    "equation has two equal roots.\n",
    "If b2\n",
    "- 4ac > 0, the equation has two real roots. If b2\n",
    "\n",
    "- 4ac < 0, the equation has two\n",
    "\n",
    "complex roots.\n",
    "Write a program that prompts the user to input the value of a (the coefficient of x2\n",
    "), b\n",
    "(the coefficient of x), and c (the constant term) and outputs the roots of the quadratic\n",
    "equation."
   ]
  },
  {
   "cell_type": "code",
   "execution_count": null,
   "id": "6ccb33bd-3d68-4519-8a5e-1ed0e68c42db",
   "metadata": {},
   "outputs": [],
   "source": [
    "import math\n",
    "X=0\n",
    "a=float(input(\"Enter Value of a\"))\n",
    "b=float(input(\"Enter Value of b\"))\n",
    "c=float(input(\"Enter Value of c\"))\n",
    "X1=(-b-1/2*(b**2-4*c))/2*a\n",
    "X2=(-b+1/2*(b**2-4*c))/2*a\n",
    "print(f\"Root1 {X1}\")\n",
    "print(f\"Root2 {X2}\")"
   ]
  },
  {
   "cell_type": "markdown",
   "id": "843ad0e5-94ae-4f63-8d38-eb912fd459d9",
   "metadata": {},
   "source": [
    "10. Write a program that prompts the user to enter three numbers and sorts them in\n",
    "ascending order. The program should print the sorted numbers."
   ]
  },
  {
   "cell_type": "code",
   "execution_count": 10,
   "id": "eefdb041-962f-49a8-b10b-bdfd851b7bd8",
   "metadata": {},
   "outputs": [
    {
     "name": "stdin",
     "output_type": "stream",
     "text": [
      "Enter num1:  5\n",
      "Enter num2:  4\n",
      "Enter num3:  3\n"
     ]
    },
    {
     "name": "stdout",
     "output_type": "stream",
     "text": [
      "Sorted list: [3, 4, 5]\n"
     ]
    }
   ],
   "source": [
    "num1 = int(input(\"Enter num1: \"))\n",
    "num2 = int(input(\"Enter num2: \"))\n",
    "num3 = int(input(\"Enter num3: \"))\n",
    "if num1 <= num2 and num1 <= num3:\n",
    "    if num2 <= num3:\n",
    "        sorted_list = [num1, num2, num3]\n",
    "    else:\n",
    "        sorted_list = [num1, num3, num2]\n",
    "elif num2 <= num1 and num2 <= num3:\n",
    "    if num1 <= num3:\n",
    "        sorted_list = [num2, num1, num3]\n",
    "    else:\n",
    "        sorted_list = [num2, num3, num1]\n",
    "else:\n",
    "    if num1 <= num2:\n",
    "        sorted_list = [num3, num1, num2]\n",
    "    else:\n",
    "        sorted_list = [num3, num2, num1]\n",
    "print(\"Sorted list:\", sorted_list)\n"
   ]
  },
  {
   "cell_type": "markdown",
   "id": "e7dbee7a-e879-44e0-9723-4e322bc03aad",
   "metadata": {},
   "source": [
    "11. Write a program that prompts the user to input three integers and outputs the\n",
    "largest."
   ]
  },
  {
   "cell_type": "code",
   "execution_count": 8,
   "id": "42efb7f4-4c31-457a-9387-e9895f614ec2",
   "metadata": {},
   "outputs": [
    {
     "name": "stdin",
     "output_type": "stream",
     "text": [
      "Enter the first integer:  3\n",
      "Enter the second integer:  4\n",
      "Enter the third integer:  2\n"
     ]
    },
    {
     "name": "stdout",
     "output_type": "stream",
     "text": [
      "The largest number is: 4\n"
     ]
    }
   ],
   "source": [
    "num1 = int(input(\"Enter the first integer: \"))\n",
    "num2 = int(input(\"Enter the second integer: \"))\n",
    "num3 = int(input(\"Enter the third integer: \"))\n",
    "if num1 >= num2 and num1 >= num3:\n",
    "    largest = num1\n",
    "elif num2 >= num1 and num2 >= num3:\n",
    "    largest = num2\n",
    "else:\n",
    "    largest = num3\n",
    "print(\"The largest number is:\", largest)"
   ]
  },
  {
   "cell_type": "markdown",
   "id": "29879b83-c773-481f-9121-cc892b41cde9",
   "metadata": {},
   "source": [
    "12. Write a program that prompts the user to input a character and determine the\n",
    "character is vowel or consonant."
   ]
  },
  {
   "cell_type": "code",
   "execution_count": 13,
   "id": "a9d8a92c-f444-4a7a-aead-685faf282e72",
   "metadata": {},
   "outputs": [
    {
     "name": "stdin",
     "output_type": "stream",
     "text": [
      "Enter a single character:  s\n"
     ]
    },
    {
     "name": "stdout",
     "output_type": "stream",
     "text": [
      "The character 's' is a consonant.\n"
     ]
    }
   ],
   "source": [
    "char = input(\"Enter a single character: \").lower()\n",
    "if len(char) == 1 and char.isalpha():\n",
    "    if char in \"aeiou\":\n",
    "        print(f\"The character '{char}' is a vowel.\")\n",
    "    else:\n",
    "        print(f\"The character '{char}' is a consonant.\")\n",
    "else:\n",
    "    print(\"Invalid input! Please enter a single alphabetic character.\")\n"
   ]
  },
  {
   "cell_type": "markdown",
   "id": "9d0ef7c5-736d-4ee8-b580-9aca29057f93",
   "metadata": {},
   "source": [
    "13. Write a program that prompts the user to input a year and determine whether the\n",
    "year is a leap year or not.\n",
    "Leap Years are any year that can be evenly divided by 4. A year that is evenly divisible by\n",
    "100 is a leap year only if it is also evenly divisible by 400. Example:\n",
    "1992 Leap Year\n",
    "2000 Leap Year\n",
    "1900 NOT a Leap Year\n",
    "1995 NOT a Leap Year"
   ]
  },
  {
   "cell_type": "code",
   "execution_count": 14,
   "id": "2d6788f0-b781-4977-82de-605a4aa07416",
   "metadata": {},
   "outputs": [
    {
     "name": "stdin",
     "output_type": "stream",
     "text": [
      "Enter a year:  2004\n"
     ]
    },
    {
     "name": "stdout",
     "output_type": "stream",
     "text": [
      "2004 is a Leap Year.\n"
     ]
    }
   ],
   "source": [
    "year = int(input(\"Enter a year: \"))\n",
    "if (year % 4 == 0 and year % 100 != 0) or (year % 400 == 0):\n",
    "    print(f\"{year} is a Leap Year.\")\n",
    "else:\n",
    "    print(f\"{year} is NOT a Leap Year.\")\n"
   ]
  },
  {
   "cell_type": "markdown",
   "id": "789f3a23-6fd5-4e9c-a76a-6ee7eaaa88a1",
   "metadata": {},
   "source": [
    "14. Write a program that prompts the user to input number of calls and calculate the\n",
    "monthly telephone bills as per the following rule:\n",
    "Minimum Rs. 200 for up to 100 calls.\n",
    "Plus Rs. 0.60 per call for next 50 calls.\n",
    "Plus Rs. 0.50 per call for next 50 calls.\n",
    "Plus Rs. 0.40 per call for any call beyond 200 calls."
   ]
  },
  {
   "cell_type": "code",
   "execution_count": 15,
   "id": "1a863513-af47-4470-98a1-1851d3cddb31",
   "metadata": {},
   "outputs": [
    {
     "name": "stdin",
     "output_type": "stream",
     "text": [
      "Enter the number of calls:  300\n"
     ]
    },
    {
     "name": "stdout",
     "output_type": "stream",
     "text": [
      "The total telephone bill is: Rs. 295.00\n"
     ]
    }
   ],
   "source": [
    "calls = int(input(\"Enter the number of calls: \"))\n",
    "if calls <= 100:\n",
    "    bill = 200\n",
    "elif calls <= 150:\n",
    "    bill = 200 + (calls - 100) * 0.60\n",
    "elif calls <= 200:\n",
    "    bill = 200 + (50 * 0.60) + (calls - 150) * 0.50\n",
    "else:\n",
    "    bill = 200 + (50 * 0.60) + (50 * 0.50) + (calls - 200) * 0.40\n",
    "print(f\"The total telephone bill is: Rs. {bill:.2f}\")\n"
   ]
  },
  {
   "cell_type": "code",
   "execution_count": null,
   "id": "17f17b34-8f3d-4b7a-bbd1-d5751237f6e9",
   "metadata": {},
   "outputs": [],
   "source": []
  }
 ],
 "metadata": {
  "kernelspec": {
   "display_name": "Python 3 (ipykernel)",
   "language": "python",
   "name": "python3"
  },
  "language_info": {
   "codemirror_mode": {
    "name": "ipython",
    "version": 3
   },
   "file_extension": ".py",
   "mimetype": "text/x-python",
   "name": "python",
   "nbconvert_exporter": "python",
   "pygments_lexer": "ipython3",
   "version": "3.12.7"
  }
 },
 "nbformat": 4,
 "nbformat_minor": 5
}
